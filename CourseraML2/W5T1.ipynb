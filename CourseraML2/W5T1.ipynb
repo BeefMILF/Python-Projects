{
 "cells": [
  {
   "cell_type": "code",
   "execution_count": 85,
   "metadata": {},
   "outputs": [],
   "source": [
    "import numpy as np\n",
    "import pandas as pd\n",
    "from sklearn.datasets import load_digits, load_breast_cancer\n",
    "from sklearn.model_selection import cross_val_score, train_test_split\n",
    "from sklearn.naive_bayes import BernoulliNB, MultinomialNB, GaussianNB"
   ]
  },
  {
   "cell_type": "code",
   "execution_count": 123,
   "metadata": {},
   "outputs": [],
   "source": [
    "np.set_printoptions(suppress=True)"
   ]
  },
  {
   "cell_type": "code",
   "execution_count": 36,
   "metadata": {},
   "outputs": [],
   "source": [
    "def write(num, *args):\n",
    "    with open(f'file{num}', 'w') as file:\n",
    "        file.write(' '.join(map(str, args)))"
   ]
  },
  {
   "cell_type": "code",
   "execution_count": 11,
   "metadata": {},
   "outputs": [],
   "source": [
    "data_digits = load_digits()\n",
    "data_cancer = load_breast_cancer()"
   ]
  },
  {
   "cell_type": "code",
   "execution_count": 14,
   "metadata": {},
   "outputs": [],
   "source": [
    "X1, y1 = data_digits.data, data_digits.target"
   ]
  },
  {
   "cell_type": "code",
   "execution_count": 15,
   "metadata": {},
   "outputs": [],
   "source": [
    "X2, y2 = data_cancer.data, data_cancer.target"
   ]
  },
  {
   "cell_type": "code",
   "execution_count": 27,
   "metadata": {},
   "outputs": [
    {
     "data": {
      "text/plain": [
       "(array([[ 0.,  0.,  5., 13.,  9.,  1.,  0.,  0.,  0.,  0., 13., 15., 10.,\n",
       "         15.,  5.,  0.,  0.,  3., 15.,  2.,  0., 11.,  8.,  0.,  0.,  4.,\n",
       "         12.,  0.,  0.,  8.,  8.,  0.,  0.,  5.,  8.,  0.,  0.,  9.,  8.,\n",
       "          0.,  0.,  4., 11.,  0.,  1., 12.,  7.,  0.,  0.,  2., 14.,  5.,\n",
       "         10., 12.,  0.,  0.,  0.,  0.,  6., 13., 10.,  0.,  0.,  0.],\n",
       "        [ 0.,  0.,  0., 12., 13.,  5.,  0.,  0.,  0.,  0.,  0., 11., 16.,\n",
       "          9.,  0.,  0.,  0.,  0.,  3., 15., 16.,  6.,  0.,  0.,  0.,  7.,\n",
       "         15., 16., 16.,  2.,  0.,  0.,  0.,  0.,  1., 16., 16.,  3.,  0.,\n",
       "          0.,  0.,  0.,  1., 16., 16.,  6.,  0.,  0.,  0.,  0.,  1., 16.,\n",
       "         16.,  6.,  0.,  0.,  0.,  0.,  0., 11., 16., 10.,  0.,  0.]]),\n",
       " array([0, 1, 2, 3, 4, 5, 6, 7, 8, 9, 0, 1, 2, 3, 4, 5, 6, 7, 8, 9]))"
      ]
     },
     "execution_count": 27,
     "metadata": {},
     "output_type": "execute_result"
    }
   ],
   "source": [
    "X1[:2], y1[:20]"
   ]
  },
  {
   "cell_type": "code",
   "execution_count": 28,
   "metadata": {},
   "outputs": [
    {
     "data": {
      "text/plain": [
       "(array([[  17.99    ,   10.38    ,  122.8     , 1001.      ,    0.1184  ,\n",
       "            0.2776  ,    0.3001  ,    0.1471  ,    0.2419  ,    0.07871 ,\n",
       "            1.095   ,    0.9053  ,    8.589   ,  153.4     ,    0.006399,\n",
       "            0.04904 ,    0.05373 ,    0.01587 ,    0.03003 ,    0.006193,\n",
       "           25.38    ,   17.33    ,  184.6     , 2019.      ,    0.1622  ,\n",
       "            0.6656  ,    0.7119  ,    0.2654  ,    0.4601  ,    0.1189  ],\n",
       "        [  20.57    ,   17.77    ,  132.9     , 1326.      ,    0.08474 ,\n",
       "            0.07864 ,    0.0869  ,    0.07017 ,    0.1812  ,    0.05667 ,\n",
       "            0.5435  ,    0.7339  ,    3.398   ,   74.08    ,    0.005225,\n",
       "            0.01308 ,    0.0186  ,    0.0134  ,    0.01389 ,    0.003532,\n",
       "           24.99    ,   23.41    ,  158.8     , 1956.      ,    0.1238  ,\n",
       "            0.1866  ,    0.2416  ,    0.186   ,    0.275   ,    0.08902 ]]),\n",
       " array([0, 0, 0, 0, 0, 0, 0, 0, 0, 0, 0, 0, 0, 0, 0, 0, 0, 0, 0, 1]))"
      ]
     },
     "execution_count": 28,
     "metadata": {},
     "output_type": "execute_result"
    }
   ],
   "source": [
    "X2[:2], y2[:20]"
   ]
  },
  {
   "cell_type": "code",
   "execution_count": 31,
   "metadata": {},
   "outputs": [],
   "source": [
    "bnb = BernoulliNB()\n",
    "mnb = MultinomialNB()\n",
    "gnb = GaussianNB()"
   ]
  },
  {
   "cell_type": "code",
   "execution_count": 39,
   "metadata": {},
   "outputs": [
    {
     "name": "stderr",
     "output_type": "stream",
     "text": [
      "/Users/macair/anaconda3/lib/python3.7/site-packages/sklearn/model_selection/_split.py:1978: FutureWarning: The default value of cv will change from 3 to 5 in version 0.22. Specify it explicitly to silence this warning.\n",
      "  warnings.warn(CV_WARNING, FutureWarning)\n"
     ]
    },
    {
     "name": "stdout",
     "output_type": "stream",
     "text": [
      "Digits accuracy score on bayesian models:\n",
      "0.8258236507780582\n",
      "0.8708771489735053\n",
      "0.8186003803550138\n",
      "CPU times: user 67.3 ms, sys: 35.4 ms, total: 103 ms\n",
      "Wall time: 3.4 s\n"
     ]
    },
    {
     "name": "stderr",
     "output_type": "stream",
     "text": [
      "/Users/macair/anaconda3/lib/python3.7/site-packages/sklearn/model_selection/_split.py:1978: FutureWarning: The default value of cv will change from 3 to 5 in version 0.22. Specify it explicitly to silence this warning.\n",
      "  warnings.warn(CV_WARNING, FutureWarning)\n",
      "/Users/macair/anaconda3/lib/python3.7/site-packages/sklearn/model_selection/_split.py:1978: FutureWarning: The default value of cv will change from 3 to 5 in version 0.22. Specify it explicitly to silence this warning.\n",
      "  warnings.warn(CV_WARNING, FutureWarning)\n"
     ]
    }
   ],
   "source": [
    "%%time\n",
    "bnb_pred_1 = cross_val_score(bnb, X1, y1, n_jobs=2, scoring='accuracy')\n",
    "mnb_pred_1 = cross_val_score(mnb, X1, y1, n_jobs=2, scoring='accuracy')\n",
    "gnb_pred_1 = cross_val_score(gnb, X1, y1, n_jobs=2, scoring='accuracy')\n",
    "print(f'Digits accuracy score on bayesian models:\\n{bnb_pred_1.mean()}\\n{mnb_pred_1.mean()}\\n{gnb_pred_1.mean()}')"
   ]
  },
  {
   "cell_type": "code",
   "execution_count": 40,
   "metadata": {},
   "outputs": [
    {
     "name": "stdout",
     "output_type": "stream",
     "text": [
      "Digits accuracy score on bayesian models:\n",
      "0.6274204028589994\n",
      "0.8945790401930752\n",
      "0.9367492806089297\n",
      "CPU times: user 28 ms, sys: 7.04 ms, total: 35 ms\n",
      "Wall time: 50.3 ms\n"
     ]
    },
    {
     "name": "stderr",
     "output_type": "stream",
     "text": [
      "/Users/macair/anaconda3/lib/python3.7/site-packages/sklearn/model_selection/_split.py:1978: FutureWarning: The default value of cv will change from 3 to 5 in version 0.22. Specify it explicitly to silence this warning.\n",
      "  warnings.warn(CV_WARNING, FutureWarning)\n",
      "/Users/macair/anaconda3/lib/python3.7/site-packages/sklearn/model_selection/_split.py:1978: FutureWarning: The default value of cv will change from 3 to 5 in version 0.22. Specify it explicitly to silence this warning.\n",
      "  warnings.warn(CV_WARNING, FutureWarning)\n",
      "/Users/macair/anaconda3/lib/python3.7/site-packages/sklearn/model_selection/_split.py:1978: FutureWarning: The default value of cv will change from 3 to 5 in version 0.22. Specify it explicitly to silence this warning.\n",
      "  warnings.warn(CV_WARNING, FutureWarning)\n"
     ]
    }
   ],
   "source": [
    "%%time\n",
    "bnb_pred_2 = cross_val_score(bnb, X2, y2, n_jobs=2, scoring='accuracy')\n",
    "mnb_pred_2 = cross_val_score(mnb, X2, y2, n_jobs=2, scoring='accuracy')\n",
    "gnb_pred_2 = cross_val_score(gnb, X2, y2, n_jobs=2, scoring='accuracy')\n",
    "print(f'Digits accuracy score on bayesian models:\\n{bnb_pred_2.mean()}\\n{mnb_pred_2.mean()}\\n{gnb_pred_2.mean()}')"
   ]
  },
  {
   "cell_type": "code",
   "execution_count": 41,
   "metadata": {},
   "outputs": [],
   "source": [
    "write(1, gnb_pred_2.mean())"
   ]
  },
  {
   "cell_type": "code",
   "execution_count": 42,
   "metadata": {},
   "outputs": [],
   "source": [
    "write(2, mnb_pred_1.mean())"
   ]
  },
  {
   "cell_type": "code",
   "execution_count": 43,
   "metadata": {},
   "outputs": [],
   "source": [
    "write(3, 3, 4)"
   ]
  },
  {
   "cell_type": "markdown",
   "metadata": {},
   "source": [
    "*This Naive Bayes tutorial is broken down into 5 parts:*\n",
    "\n",
    "*Step 1*: __Separate By Class.__\n",
    "\n",
    "*Step 2*: __Summarize Dataset.__\n",
    "\n",
    "*Step 3*: __Summarize Data By Class.__\n",
    "\n",
    "*Step 4*: __Gaussian Probability Density Function.__\n",
    "\n",
    "*Step 5*: __Class Probabilities.__"
   ]
  },
  {
   "cell_type": "code",
   "execution_count": 191,
   "metadata": {},
   "outputs": [],
   "source": [
    "class BernNB:\n",
    "    def __init__(self):\n",
    "        pass\n",
    "\n",
    "    def fit(self, X, y):\n",
    "        data = np.column_stack((X, y))\n",
    "        n = np.unique(data[:, -1])\n",
    "        self.n_size = []\n",
    "        def stat(x):\n",
    "            self.n_size.append(x.shape[0]) \n",
    "            return [x.mean(axis=0), x.std(axis=0)]\n",
    "#         stat = lambda x: [x.mean(axis=0), x.std(axis=0)]\n",
    "        self.params = np.array(list(map(lambda x: stat(data[data[:, -1] == x, :-1]), n)))\n",
    "        self.data = data\n",
    "        self.n_size = np.array(self.n_size)\n",
    "\n",
    "    def gaussian(self, x):\n",
    "        c = 0\n",
    "        for r in x:\n",
    "            p = (1 / (np.sqrt(2 * np.pi * self.params[:, 1]))) * np.exp(- np.power(r - self.params[:, 0], 2) / (2 * self.params[:, 1]))\n",
    "            probs = np.prod(p, axis=1)\n",
    "            probs *= self.n_size / self.data.shape[0]\n",
    "            max_ = probs.argmax()\n",
    "            print(f'{max_} {round(probs[max_], 8)}')\n",
    "            \n",
    "            if c == 20:\n",
    "                break \n",
    "            c += 1\n",
    "            \n",
    "    def predict(self, data):\n",
    "        preds = []\n",
    "        print(self.gaussian(data).shape)\n"
   ]
  },
  {
   "cell_type": "code",
   "execution_count": 192,
   "metadata": {},
   "outputs": [
    {
     "name": "stdout",
     "output_type": "stream",
     "text": [
      "0 nan\n",
      "0 nan\n",
      "0 nan\n",
      "0 nan\n",
      "0 nan\n",
      "0 nan\n",
      "0 nan\n",
      "0 nan\n",
      "0 nan\n",
      "0 nan\n",
      "0 nan\n",
      "0 nan\n",
      "0 nan\n",
      "0 nan\n",
      "0 nan\n",
      "0 nan\n",
      "0 nan\n",
      "0 nan\n",
      "0 nan\n",
      "0 nan\n",
      "0 nan\n"
     ]
    },
    {
     "name": "stderr",
     "output_type": "stream",
     "text": [
      "/Users/macair/anaconda3/lib/python3.7/site-packages/ipykernel_launcher.py:20: RuntimeWarning: divide by zero encountered in true_divide\n",
      "/Users/macair/anaconda3/lib/python3.7/site-packages/ipykernel_launcher.py:20: RuntimeWarning: invalid value encountered in true_divide\n",
      "/Users/macair/anaconda3/lib/python3.7/site-packages/ipykernel_launcher.py:20: RuntimeWarning: invalid value encountered in multiply\n"
     ]
    },
    {
     "ename": "AttributeError",
     "evalue": "'NoneType' object has no attribute 'shape'",
     "output_type": "error",
     "traceback": [
      "\u001b[0;31m---------------------------------------------------------------------------\u001b[0m",
      "\u001b[0;31mAttributeError\u001b[0m                            Traceback (most recent call last)",
      "\u001b[0;32m<ipython-input-192-8ba03be82b2a>\u001b[0m in \u001b[0;36m<module>\u001b[0;34m\u001b[0m\n\u001b[1;32m      2\u001b[0m \u001b[0mtrain_X1\u001b[0m\u001b[0;34m,\u001b[0m \u001b[0mtest_X1\u001b[0m\u001b[0;34m,\u001b[0m \u001b[0mtrain_y1\u001b[0m\u001b[0;34m,\u001b[0m \u001b[0mtest_y1\u001b[0m \u001b[0;34m=\u001b[0m \u001b[0mtrain_test_split\u001b[0m\u001b[0;34m(\u001b[0m\u001b[0mX1\u001b[0m\u001b[0;34m,\u001b[0m \u001b[0my1\u001b[0m\u001b[0;34m,\u001b[0m \u001b[0mshuffle\u001b[0m\u001b[0;34m=\u001b[0m\u001b[0;32mTrue\u001b[0m\u001b[0;34m,\u001b[0m \u001b[0mtrain_size\u001b[0m\u001b[0;34m=\u001b[0m\u001b[0;36m0.1\u001b[0m\u001b[0;34m,\u001b[0m \u001b[0mrandom_state\u001b[0m\u001b[0;34m=\u001b[0m\u001b[0;36m42\u001b[0m\u001b[0;34m)\u001b[0m\u001b[0;34m\u001b[0m\u001b[0;34m\u001b[0m\u001b[0m\n\u001b[1;32m      3\u001b[0m \u001b[0mclassifier\u001b[0m\u001b[0;34m.\u001b[0m\u001b[0mfit\u001b[0m\u001b[0;34m(\u001b[0m\u001b[0mtrain_X1\u001b[0m\u001b[0;34m,\u001b[0m \u001b[0mtrain_y1\u001b[0m\u001b[0;34m)\u001b[0m\u001b[0;34m\u001b[0m\u001b[0;34m\u001b[0m\u001b[0m\n\u001b[0;32m----> 4\u001b[0;31m \u001b[0mclassifier\u001b[0m\u001b[0;34m.\u001b[0m\u001b[0mpredict\u001b[0m\u001b[0;34m(\u001b[0m\u001b[0mtest_X1\u001b[0m\u001b[0;34m)\u001b[0m\u001b[0;34m\u001b[0m\u001b[0;34m\u001b[0m\u001b[0m\n\u001b[0m",
      "\u001b[0;32m<ipython-input-191-2ef43626044a>\u001b[0m in \u001b[0;36mpredict\u001b[0;34m(self, data)\u001b[0m\n\u001b[1;32m     30\u001b[0m     \u001b[0;32mdef\u001b[0m \u001b[0mpredict\u001b[0m\u001b[0;34m(\u001b[0m\u001b[0mself\u001b[0m\u001b[0;34m,\u001b[0m \u001b[0mdata\u001b[0m\u001b[0;34m)\u001b[0m\u001b[0;34m:\u001b[0m\u001b[0;34m\u001b[0m\u001b[0;34m\u001b[0m\u001b[0m\n\u001b[1;32m     31\u001b[0m         \u001b[0mpreds\u001b[0m \u001b[0;34m=\u001b[0m \u001b[0;34m[\u001b[0m\u001b[0;34m]\u001b[0m\u001b[0;34m\u001b[0m\u001b[0;34m\u001b[0m\u001b[0m\n\u001b[0;32m---> 32\u001b[0;31m         \u001b[0mprint\u001b[0m\u001b[0;34m(\u001b[0m\u001b[0mself\u001b[0m\u001b[0;34m.\u001b[0m\u001b[0mgaussian\u001b[0m\u001b[0;34m(\u001b[0m\u001b[0mdata\u001b[0m\u001b[0;34m)\u001b[0m\u001b[0;34m.\u001b[0m\u001b[0mshape\u001b[0m\u001b[0;34m)\u001b[0m\u001b[0;34m\u001b[0m\u001b[0;34m\u001b[0m\u001b[0m\n\u001b[0m",
      "\u001b[0;31mAttributeError\u001b[0m: 'NoneType' object has no attribute 'shape'"
     ]
    }
   ],
   "source": [
    "classifier = BernNB()\n",
    "train_X1, test_X1, train_y1, test_y1 = train_test_split(X1, y1, shuffle=True, train_size=0.1, random_state=42)\n",
    "classifier.fit(train_X1, train_y1)\n",
    "classifier.predict(test_X1)"
   ]
  },
  {
   "cell_type": "code",
   "execution_count": null,
   "metadata": {},
   "outputs": [],
   "source": []
  },
  {
   "cell_type": "code",
   "execution_count": 82,
   "metadata": {},
   "outputs": [
    {
     "name": "stdout",
     "output_type": "stream",
     "text": [
      "[0 1 2 3 4 5 6 7 8 9 0 1 2 3 4]\n"
     ]
    }
   ],
   "source": [
    "#prepare data \n",
    "X1.shape, y1.shape\n",
    "print(y1[:15])"
   ]
  },
  {
   "cell_type": "code",
   "execution_count": 80,
   "metadata": {},
   "outputs": [
    {
     "name": "stdout",
     "output_type": "stream",
     "text": [
      "(178, 64)\n"
     ]
    }
   ],
   "source": [
    "def bnb(X, y):\n",
    "    data = np.column_stack((X, y))\n",
    "    n = np.unique(data[:, -1])\n",
    "    for i in list(map(lambda x: data[data[:, -1] == x, :-1], n)):\n",
    "        mean, std = i.mean(axis=0), i.std(axis=0)\n",
    "        const = (1 / (np.sqrt(2 * np.pi * std ** 2 + 1)))\n",
    "#         p = const * np.exp(-((i - mean) ** 2) / (2 * std ** 2 + 1))\n",
    "        print(p.shape[0] / data.shape[0])\n",
    "        \n",
    "        break\n",
    "\n",
    "bnb(X1, y1)"
   ]
  },
  {
   "cell_type": "code",
   "execution_count": null,
   "metadata": {},
   "outputs": [],
   "source": []
  }
 ],
 "metadata": {
  "kernelspec": {
   "display_name": "Python 3",
   "language": "python",
   "name": "python3"
  },
  "language_info": {
   "codemirror_mode": {
    "name": "ipython",
    "version": 3
   },
   "file_extension": ".py",
   "mimetype": "text/x-python",
   "name": "python",
   "nbconvert_exporter": "python",
   "pygments_lexer": "ipython3",
   "version": "3.7.3"
  }
 },
 "nbformat": 4,
 "nbformat_minor": 2
}
