{
 "cells": [
  {
   "cell_type": "code",
   "execution_count": 91,
   "metadata": {},
   "outputs": [],
   "source": [
    "import numpy as np\n",
    "from sklearn.datasets import load_digits\n",
    "from sklearn.model_selection import cross_val_score, train_test_split, RandomizedSearchCV\n",
    "from sklearn.tree import DecisionTreeClassifier\n",
    "from sklearn.ensemble import BaggingClassifier, RandomForestClassifier\n",
    "import matplotlib.pyplot as plt \n",
    "\n",
    "%matplotlib inline"
   ]
  },
  {
   "cell_type": "code",
   "execution_count": 32,
   "metadata": {},
   "outputs": [
    {
     "name": "stdout",
     "output_type": "stream",
     "text": [
      "(1797, 64) (1797,)\n"
     ]
    }
   ],
   "source": [
    "cv = 10\n",
    "n_jobs = 2\n",
    "\n",
    "# creating dataset\n",
    "digits = load_digits()\n",
    "X = digits.data\n",
    "Y = digits.target\n",
    "print(X.shape, Y.shape)"
   ]
  },
  {
   "cell_type": "code",
   "execution_count": 56,
   "metadata": {},
   "outputs": [
    {
     "data": {
      "text/plain": [
       "1797"
      ]
     },
     "execution_count": 56,
     "metadata": {},
     "output_type": "execute_result"
    }
   ],
   "source": [
    "Y.size"
   ]
  },
  {
   "cell_type": "markdown",
   "metadata": {},
   "source": [
    "__Запись файла__"
   ]
  },
  {
   "cell_type": "code",
   "execution_count": 103,
   "metadata": {},
   "outputs": [],
   "source": [
    "def write(n=0, *args):\n",
    "    with open(f'file{n}.txt', 'w') as file:\n",
    "        file.write(' '.join(list(map(str, args))))"
   ]
  },
  {
   "cell_type": "markdown",
   "metadata": {},
   "source": [
    "__Отрисовка кривой__"
   ]
  },
  {
   "cell_type": "code",
   "execution_count": 67,
   "metadata": {},
   "outputs": [],
   "source": [
    "def plot_curve(x1=None, y1=None, x2=None, y2=None, label1=None, label2=None):\n",
    "    if x1 is None and x2 is None:\n",
    "        x1, x2 = np.arange(0, y1.size, 1), np.arange(0, y1.size, 1)\n",
    "    plt.plot(x1, y1, 'g-', marker='o', label=label1 or 'first')\n",
    "    plt.plot(x2, y2, 'r-', marker='o', label=label2 or 'second')\n",
    "    plt.ylim((0, 1.02))\n",
    "    plt.legend()\n",
    "    plt.grid()\n",
    "    plt.show()\n",
    "    \n",
    "def plot_curves(labels, y, x=None):\n",
    "    if x is None:\n",
    "        x_ = np.arange(0, y[0].size, 1)\n",
    "        for y_, label_ in zip(y, labels):\n",
    "            plt.plot(x_, y_, marker='o', label=label_)\n",
    "    else:\n",
    "        for x_, y_, label_ in zip(x, y, labels):\n",
    "            plt.plot(x_, y_, marker='o', label=label_)\n",
    "    plt.ylim((0, 1.02))\n",
    "    plt.grid()\n",
    "    plt.legend()\n",
    "    plt.show()"
   ]
  },
  {
   "cell_type": "markdown",
   "metadata": {},
   "source": [
    "__Задание номер 1.__ "
   ]
  },
  {
   "cell_type": "code",
   "execution_count": 36,
   "metadata": {},
   "outputs": [],
   "source": [
    "estimator = DecisionTreeClassifier()"
   ]
  },
  {
   "cell_type": "code",
   "execution_count": 37,
   "metadata": {},
   "outputs": [
    {
     "name": "stdout",
     "output_type": "stream",
     "text": [
      "CPU times: user 47.2 ms, sys: 16.2 ms, total: 63.3 ms\n",
      "Wall time: 224 ms\n",
      "0.8391601480666635\n",
      "CPU times: user 39.9 ms, sys: 3.85 ms, total: 43.8 ms\n",
      "Wall time: 204 ms\n",
      "0.8197261491930121\n"
     ]
    }
   ],
   "source": [
    "# check parameter 'n_jobs' time management \n",
    "for i in range(1, 3):\n",
    "    %time score = cross_val_score(estimator, X, Y, cv=10, n_jobs=3).mean()\n",
    "    print(f'{score}')"
   ]
  },
  {
   "cell_type": "code",
   "execution_count": 38,
   "metadata": {},
   "outputs": [
    {
     "name": "stdout",
     "output_type": "stream",
     "text": [
      "CPU times: user 38.5 ms, sys: 5.72 ms, total: 44.2 ms\n",
      "Wall time: 1.99 s\n"
     ]
    },
    {
     "data": {
      "text/plain": [
       "0.837993437891616"
      ]
     },
     "execution_count": 38,
     "metadata": {},
     "output_type": "execute_result"
    }
   ],
   "source": [
    "%%time\n",
    "answer1 = cross_val_score(estimator, X, Y, cv=10, n_jobs=n_jobs) \n",
    "write(1, answer1.mean())\n",
    "answer1.mean()"
   ]
  },
  {
   "cell_type": "markdown",
   "metadata": {},
   "source": [
    "__Задание номер 2.__ "
   ]
  },
  {
   "cell_type": "code",
   "execution_count": 39,
   "metadata": {},
   "outputs": [
    {
     "name": "stdout",
     "output_type": "stream",
     "text": [
      "CPU times: user 67.4 ms, sys: 8.43 ms, total: 75.8 ms\n",
      "Wall time: 8.58 s\n"
     ]
    },
    {
     "data": {
      "text/plain": [
       "0.9243413688238167"
      ]
     },
     "execution_count": 39,
     "metadata": {},
     "output_type": "execute_result"
    }
   ],
   "source": [
    "%%time\n",
    "classifier = BaggingClassifier(base_estimator=estimator, n_estimators=100)\n",
    "answer2 = cross_val_score(classifier, X, Y, cv=cv, n_jobs=n_jobs)\n",
    "write(2, answer2.mean())\n",
    "answer2.mean()"
   ]
  },
  {
   "cell_type": "code",
   "execution_count": 54,
   "metadata": {},
   "outputs": [
    {
     "data": {
      "image/png": "[encoded data removed]",
      "text/plain": [
       "<Figure size 432x288 with 1 Axes>"
      ]
     },
     "metadata": {
      "needs_background": "light"
     },
     "output_type": "display_data"
    }
   ],
   "source": [
    "plot_curve(y1=answer1, y2=answer2, label1='desicion tree', label2=f'{100} bag decision tree')"
   ]
  },
  {
   "cell_type": "markdown",
   "metadata": {},
   "source": [
    "__Задание номер 3.__ "
   ]
  },
  {
   "cell_type": "code",
   "execution_count": 57,
   "metadata": {},
   "outputs": [
    {
     "name": "stdout",
     "output_type": "stream",
     "text": [
      "CPU times: user 72.2 ms, sys: 48.8 ms, total: 121 ms\n",
      "Wall time: 5.39 s\n"
     ]
    },
    {
     "data": {
      "text/plain": [
       "0.9365281294303756"
      ]
     },
     "execution_count": 57,
     "metadata": {},
     "output_type": "execute_result"
    }
   ],
   "source": [
    "%%time\n",
    "classifier = BaggingClassifier(base_estimator=estimator, max_features=int(np.sqrt(X.shape[1])), n_estimators=100, random_state=0)\n",
    "answer3 = cross_val_score(classifier, X, Y, cv=cv, n_jobs=n_jobs)\n",
    "write(3, answer3.mean())\n",
    "answer3.mean()"
   ]
  },
  {
   "cell_type": "code",
   "execution_count": 68,
   "metadata": {},
   "outputs": [
    {
     "data": {
      "image/png": "[encoded data removed]",
      "text/plain": [
       "<Figure size 432x288 with 1 Axes>"
      ]
     },
     "metadata": {
      "needs_background": "light"
     },
     "output_type": "display_data"
    }
   ],
   "source": [
    "plot_curves(['desicion tree', f'{100} bag decision tree', f'{100} bag decision tree: train sqrt(feature.n)'], [answer1, answer2, answer3])"
   ]
  },
  {
   "cell_type": "markdown",
   "metadata": {},
   "source": [
    "__Задание номер 4.__ "
   ]
  },
  {
   "cell_type": "code",
   "execution_count": 83,
   "metadata": {},
   "outputs": [
    {
     "name": "stdout",
     "output_type": "stream",
     "text": [
      "CPU times: user 58.6 ms, sys: 8.53 ms, total: 67.1 ms\n",
      "Wall time: 2.26 s\n"
     ]
    },
    {
     "data": {
      "text/plain": [
       "0.9544773623165452"
      ]
     },
     "execution_count": 83,
     "metadata": {},
     "output_type": "execute_result"
    }
   ],
   "source": [
    "%%time\n",
    "estimator = DecisionTreeClassifier(max_features='sqrt')\n",
    "classifier = BaggingClassifier(base_estimator=estimator, n_estimators=100, random_state=0)\n",
    "answer4 = cross_val_score(classifier, X, Y, cv=cv, n_jobs=n_jobs)\n",
    "write(4, answer4.mean())\n",
    "answer4.mean()"
   ]
  },
  {
   "cell_type": "markdown",
   "metadata": {},
   "source": [
    "__Задание номер 5.__ "
   ]
  },
  {
   "cell_type": "code",
   "execution_count": 104,
   "metadata": {},
   "outputs": [],
   "source": [
    "write(5, *[2, 3, 4, 7])"
   ]
  },
  {
   "cell_type": "code",
   "execution_count": 84,
   "metadata": {},
   "outputs": [
    {
     "name": "stdout",
     "output_type": "stream",
     "text": [
      "CPU times: user 65 ms, sys: 8.13 ms, total: 73.1 ms\n",
      "Wall time: 2.17 s\n"
     ]
    },
    {
     "data": {
      "text/plain": [
       "0.9506154156838471"
      ]
     },
     "execution_count": 84,
     "metadata": {},
     "output_type": "execute_result"
    }
   ],
   "source": [
    "%%time\n",
    "classifier = RandomForestClassifier(n_estimators=100, max_features='sqrt', random_state=0)\n",
    "answer5 = cross_val_score(classifier, X, Y, cv=cv, n_jobs=n_jobs)\n",
    "answer5.mean()"
   ]
  },
  {
   "cell_type": "code",
   "execution_count": 85,
   "metadata": {},
   "outputs": [
    {
     "data": {
      "image/png": "[encoded data removed]",
      "text/plain": [
       "<Figure size 432x288 with 1 Axes>"
      ]
     },
     "metadata": {
      "needs_background": "light"
     },
     "output_type": "display_data"
    }
   ],
   "source": [
    "plot_curves(['desicion tree', f'decision tree, sqrt(features)', f'random forest, sqrt(features)'], [answer3, answer4, answer5])"
   ]
  },
  {
   "cell_type": "code",
   "execution_count": 93,
   "metadata": {},
   "outputs": [],
   "source": [
    "X_train, X_test, Y_train, Y_test = train_test_split(X, Y, test_size=int(np.sqrt(Y.size)))"
   ]
  },
  {
   "cell_type": "code",
   "execution_count": 95,
   "metadata": {},
   "outputs": [
    {
     "name": "stderr",
     "output_type": "stream",
     "text": [
      "/Users/macair/anaconda3/lib/python3.7/site-packages/sklearn/model_selection/_search.py:813: DeprecationWarning: The default of the `iid` parameter will change from True to False in version 0.22 and will be removed in 0.24. This will change numeric results when test-set sizes are unequal.\n",
      "  DeprecationWarning)\n"
     ]
    },
    {
     "name": "stdout",
     "output_type": "stream",
     "text": [
      "CPU times: user 910 ms, sys: 54.4 ms, total: 965 ms\n",
      "Wall time: 6.2 s\n"
     ]
    },
    {
     "data": {
      "text/plain": [
       "RandomizedSearchCV(cv=3, error_score='raise-deprecating',\n",
       "                   estimator=RandomForestClassifier(bootstrap=True,\n",
       "                                                    class_weight=None,\n",
       "                                                    criterion='gini',\n",
       "                                                    max_depth=None,\n",
       "                                                    max_features='auto',\n",
       "                                                    max_leaf_nodes=None,\n",
       "                                                    min_impurity_decrease=0.0,\n",
       "                                                    min_impurity_split=None,\n",
       "                                                    min_samples_leaf=1,\n",
       "                                                    min_samples_split=2,\n",
       "                                                    min_weight_fraction_leaf=0.0,\n",
       "                                                    n_estimators='warn',\n",
       "                                                    n_jobs=None,\n",
       "                                                    oob_score=False,\n",
       "                                                    random_state=None,\n",
       "                                                    verbose=0,\n",
       "                                                    warm_start=False),\n",
       "                   iid='warn', n_iter=20, n_jobs=2,\n",
       "                   param_distributions={'max_depth': [2, 3, 5, 7, 10, None],\n",
       "                                        'max_features': ['sqrt', 'log2', None,\n",
       "                                                         0.25, 0.5, 0.75],\n",
       "                                        'n_estimators': [1, 2, 3, 5, 10, 20, 40,\n",
       "                                                         50, 70, 80, 100]},\n",
       "                   pre_dispatch='2*n_jobs', random_state=0, refit=True,\n",
       "                   return_train_score=False, scoring=None, verbose=0)"
      ]
     },
     "execution_count": 95,
     "metadata": {},
     "output_type": "execute_result"
    }
   ],
   "source": [
    "%%time\n",
    "classifier = RandomForestClassifier()\n",
    "param_grid = {\n",
    "    'n_estimators': [1, 2, 3, 5, 10, 20, 40, 50, 70, 80, 100],\n",
    "    'max_depth': [2, 3, 5, 7, 10, None],\n",
    "    'max_features': ['sqrt', 'log2', None, 0.25, 0.5, 0.75]\n",
    "}\n",
    "grid_cv = RandomizedSearchCV(estimator=classifier, param_distributions=param_grid, n_iter=20, cv=3, random_state=0, n_jobs=n_jobs)\n",
    "grid_cv.fit(X_train, Y_train)"
   ]
  },
  {
   "cell_type": "code",
   "execution_count": 96,
   "metadata": {},
   "outputs": [
    {
     "name": "stdout",
     "output_type": "stream",
     "text": [
      "{'n_estimators': 100, 'max_features': 0.5, 'max_depth': 10}\n",
      "0.9652421652421652\n"
     ]
    }
   ],
   "source": [
    "print(grid_cv.best_params_)\n",
    "print(grid_cv.best_score_)"
   ]
  },
  {
   "cell_type": "code",
   "execution_count": 114,
   "metadata": {},
   "outputs": [
    {
     "data": {
      "text/plain": [
       "{'mean_fit_time': array([0.02030174, 0.00952419, 0.59946791, 0.25807635, 0.02573872,\n",
       "        0.10489853, 0.04832403, 0.05045215, 0.72631097, 0.2862707 ,\n",
       "        0.01722082, 0.09439143, 0.13406308, 0.08755207, 0.09384735,\n",
       "        0.00361109, 0.00289305, 0.04690933, 0.04412166, 0.00715232]),\n",
       " 'std_fit_time': array([2.05822709e-04, 7.59469584e-04, 3.24334444e-02, 1.17829535e-02,\n",
       "        2.92698078e-04, 5.85508658e-03, 1.30050130e-03, 5.77904745e-04,\n",
       "        1.04447455e-02, 1.07828677e-03, 3.97885553e-04, 2.10293444e-03,\n",
       "        1.56371067e-03, 4.88755218e-04, 5.14992922e-03, 8.58547477e-05,\n",
       "        2.38476932e-04, 3.51846752e-04, 1.79445954e-03, 7.31213367e-05]),\n",
       " 'mean_score_time': array([0.00182199, 0.0011851 , 0.01838144, 0.01640256, 0.00228771,\n",
       "        0.00297737, 0.00194565, 0.00375001, 0.01730466, 0.0073452 ,\n",
       "        0.00139896, 0.01094238, 0.01487406, 0.00788005, 0.00898457,\n",
       "        0.00113471, 0.00098554, 0.00161862, 0.00422136, 0.00104499]),\n",
       " 'std_score_time': array([8.14289330e-05, 1.92384376e-04, 5.40034672e-04, 2.44481252e-03,\n",
       "        8.88761729e-05, 5.74922761e-04, 3.15871437e-04, 2.34851565e-04,\n",
       "        8.48725493e-05, 6.22124794e-05, 1.28900814e-04, 5.14587251e-04,\n",
       "        4.19674554e-04, 1.10206193e-04, 1.68047838e-04, 1.95343869e-04,\n",
       "        1.26638101e-04, 1.14826209e-04, 3.03924270e-04, 3.89335909e-06]),\n",
       " 'param_n_estimators': masked_array(data=[5, 1, 100, 100, 10, 10, 5, 20, 100, 40, 3, 70, 100, 50,\n",
       "                    50, 2, 1, 5, 20, 3],\n",
       "              mask=[False, False, False, False, False, False, False, False,\n",
       "                    False, False, False, False, False, False, False, False,\n",
       "                    False, False, False, False],\n",
       "        fill_value='?',\n",
       "             dtype=object),\n",
       " 'param_max_features': masked_array(data=[0.25, 0.75, 0.5, 0.75, 0.75, None, None, 0.75, 0.75,\n",
       "                    0.75, 0.5, 'sqrt', 'sqrt', 0.25, 'log2', 'log2',\n",
       "                    'sqrt', None, 'sqrt', 0.25],\n",
       "              mask=[False, False, False, False, False, False, False, False,\n",
       "                    False, False, False, False, False, False, False, False,\n",
       "                    False, False, False, False],\n",
       "        fill_value='?',\n",
       "             dtype=object),\n",
       " 'param_max_depth': masked_array(data=[10, 10, 10, 2, 2, None, 10, 2, None, 10, None, 3, 3, 3,\n",
       "                    7, 2, 5, None, 10, 5],\n",
       "              mask=[False, False, False, False, False, False, False, False,\n",
       "                    False, False, False, False, False, False, False, False,\n",
       "                    False, False, False, False],\n",
       "        fill_value='?',\n",
       "             dtype=object),\n",
       " 'params': [{'n_estimators': 5, 'max_features': 0.25, 'max_depth': 10},\n",
       "  {'n_estimators': 1, 'max_features': 0.75, 'max_depth': 10},\n",
       "  {'n_estimators': 100, 'max_features': 0.5, 'max_depth': 10},\n",
       "  {'n_estimators': 100, 'max_features': 0.75, 'max_depth': 2},\n",
       "  {'n_estimators': 10, 'max_features': 0.75, 'max_depth': 2},\n",
       "  {'n_estimators': 10, 'max_features': None, 'max_depth': None},\n",
       "  {'n_estimators': 5, 'max_features': None, 'max_depth': 10},\n",
       "  {'n_estimators': 20, 'max_features': 0.75, 'max_depth': 2},\n",
       "  {'n_estimators': 100, 'max_features': 0.75, 'max_depth': None},\n",
       "  {'n_estimators': 40, 'max_features': 0.75, 'max_depth': 10},\n",
       "  {'n_estimators': 3, 'max_features': 0.5, 'max_depth': None},\n",
       "  {'n_estimators': 70, 'max_features': 'sqrt', 'max_depth': 3},\n",
       "  {'n_estimators': 100, 'max_features': 'sqrt', 'max_depth': 3},\n",
       "  {'n_estimators': 50, 'max_features': 0.25, 'max_depth': 3},\n",
       "  {'n_estimators': 50, 'max_features': 'log2', 'max_depth': 7},\n",
       "  {'n_estimators': 2, 'max_features': 'log2', 'max_depth': 2},\n",
       "  {'n_estimators': 1, 'max_features': 'sqrt', 'max_depth': 5},\n",
       "  {'n_estimators': 5, 'max_features': None, 'max_depth': None},\n",
       "  {'n_estimators': 20, 'max_features': 'sqrt', 'max_depth': 10},\n",
       "  {'n_estimators': 3, 'max_features': 0.25, 'max_depth': 5}],\n",
       " 'split0_test_score': array([0.91496599, 0.80102041, 0.97619048, 0.61904762, 0.59353741,\n",
       "        0.94557823, 0.91326531, 0.69217687, 0.96938776, 0.96258503,\n",
       "        0.86904762, 0.87755102, 0.90306122, 0.83163265, 0.96768707,\n",
       "        0.42346939, 0.63095238, 0.91666667, 0.97619048, 0.84183673]),\n",
       " 'split1_test_score': array([0.90955631, 0.80204778, 0.95733788, 0.65699659, 0.61774744,\n",
       "        0.93686007, 0.91979522, 0.63651877, 0.95221843, 0.93856655,\n",
       "        0.87372014, 0.83276451, 0.87542662, 0.83959044, 0.95221843,\n",
       "        0.44027304, 0.6331058 , 0.91296928, 0.95051195, 0.778157  ]),\n",
       " 'split2_test_score': array([0.90017212, 0.82960413, 0.96213425, 0.71944923, 0.64199656,\n",
       "        0.91910499, 0.87951807, 0.73493976, 0.95180723, 0.95697074,\n",
       "        0.84853701, 0.86230637, 0.87607573, 0.81239243, 0.95697074,\n",
       "        0.40447504, 0.56282272, 0.90189329, 0.95869191, 0.83476764]),\n",
       " 'mean_test_score': array([0.90826211, 0.81082621, 0.96524217, 0.66495726, 0.61766382,\n",
       "        0.93390313, 0.9042735 , 0.68774929, 0.95783476, 0.95270655,\n",
       "        0.86381766, 0.85754986, 0.88490028, 0.82792023, 0.95897436,\n",
       "        0.42279202, 0.60911681, 0.91054131, 0.96182336, 0.81823362]),\n",
       " 'std_test_score': array([0.00610603, 0.01321664, 0.00801369, 0.0413564 , 0.01977464,\n",
       "        0.01100383, 0.01761859, 0.04025117, 0.00820236, 0.0102701 ,\n",
       "        0.0109182 , 0.01861837, 0.01289386, 0.011398  , 0.00648096,\n",
       "        0.0146035 , 0.03257904, 0.00626882, 0.01072968, 0.02852104]),\n",
       " 'rank_test_score': array([ 8, 15,  1, 17, 18,  6,  9, 16,  4,  5, 11, 12, 10, 13,  3, 20, 19,\n",
       "         7,  2, 14], dtype=int32)}"
      ]
     },
     "execution_count": 114,
     "metadata": {},
     "output_type": "execute_result"
    }
   ],
   "source": [
    "grid_cv.cv_results_"
   ]
  },
  {
   "cell_type": "code",
   "execution_count": 120,
   "metadata": {},
   "outputs": [
    {
     "name": "stdout",
     "output_type": "stream",
     "text": [
      "(15, 2)\n",
      "(15, 2)\n",
      "(15, 2)\n"
     ]
    }
   ],
   "source": [
    "res = grid_cv.cv_results_\n",
    "# keys = ['params', rank_test_]\n",
    "for key in map(lambda i: f'split{i}_test_score', range(3)): \n",
    "    ind = np.argmin(res[key]), np.argmax(res[key])\n",
    "    print(ind)"
   ]
  }
 ],
 "metadata": {
  "kernelspec": {
   "display_name": "Python 3",
   "language": "python",
   "name": "python3"
  },
  "language_info": {
   "codemirror_mode": {
    "name": "ipython",
    "version": 3
   },
   "file_extension": ".py",
   "mimetype": "text/x-python",
   "name": "python",
   "nbconvert_exporter": "python",
   "pygments_lexer": "ipython3",
   "version": "3.7.3"
  }
 },
 "nbformat": 4,
 "nbformat_minor": 2
}
