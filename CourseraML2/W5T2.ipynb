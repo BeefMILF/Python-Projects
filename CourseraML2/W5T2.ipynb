{
 "cells": [
  {
   "cell_type": "code",
   "execution_count": 11,
   "metadata": {},
   "outputs": [],
   "source": [
    "import numpy as np\n",
    "import pandas as pd\n",
    "from sklearn.datasets import load_digits\n",
    "from sklearn.model_selection import cross_val_score, train_test_split\n",
    "from sklearn.ensemble import RandomForestClassifier\n",
    "from sklearn.neighbors import KNeighborsClassifier\n",
    "from collections import defaultdict\n",
    "from scipy.spatial.distance import euclidean"
   ]
  },
  {
   "cell_type": "code",
   "execution_count": 4,
   "metadata": {},
   "outputs": [],
   "source": [
    "np.set_printoptions(suppress=True)"
   ]
  },
  {
   "cell_type": "code",
   "execution_count": 5,
   "metadata": {},
   "outputs": [],
   "source": [
    "def write(num, *args):\n",
    "    with open(f'file{num}', 'w') as file:\n",
    "        file.write(' '.join(map(str, args)))"
   ]
  },
  {
   "cell_type": "code",
   "execution_count": 13,
   "metadata": {},
   "outputs": [],
   "source": [
    "data_digits = load_digits()\n",
    "X, y = data_digits.data, data_digits.target\n",
    "train_X, test_X, train_y, test_y = train_test_split(X, y, train_size=0.25)"
   ]
  },
  {
   "cell_type": "code",
   "execution_count": 20,
   "metadata": {},
   "outputs": [],
   "source": [
    "def classifyKNN(train_data, test_data):\n",
    "    n = train_data.shape[0]\n",
    "    points = defaultdict(tuple)\n",
    "    for i in range(test_data.shape[0]):\n",
    "        points[i] = (np.inf, -1.)\n",
    "\n",
    "    for i, row in enumerate(train_data):\n",
    "        for j, row_ in enumerate(test_data):\n",
    "            dist = euclidean(row, row_)\n",
    "            points[j] = (dist, i) if points[j][0] > dist else points[j]\n",
    "    return list(map(lambda x: x[1], points.values()))"
   ]
  },
  {
   "cell_type": "code",
   "execution_count": 21,
   "metadata": {},
   "outputs": [
    {
     "name": "stdout",
     "output_type": "stream",
     "text": [
      "0.9584569732937686\n",
      "CPU times: user 11.1 s, sys: 88.6 ms, total: 11.1 s\n",
      "Wall time: 11.4 s\n"
     ]
    }
   ],
   "source": [
    "%%time\n",
    "inds = classifyKNN(train_X, test_X)\n",
    "accuracy = (train_y[inds] == test_y).mean()\n",
    "print(accuracy)\n",
    "write(1, 1 - accuracy)"
   ]
  },
  {
   "cell_type": "code",
   "execution_count": 25,
   "metadata": {},
   "outputs": [
    {
     "name": "stdout",
     "output_type": "stream",
     "text": [
      "0.9421364985163204\n",
      "CPU times: user 2.23 s, sys: 337 ms, total: 2.56 s\n",
      "Wall time: 1.97 s\n"
     ]
    }
   ],
   "source": [
    "%%time\n",
    "classifier = RandomForestClassifier(n_estimators=1000, n_jobs=2)\n",
    "classifier.fit(train_X, train_y)\n",
    "accuracy = (classifier.predict(test_X) == test_y).mean()\n",
    "print(accuracy)\n",
    "write(2, 1 - accuracy)"
   ]
  },
  {
   "cell_type": "code",
   "execution_count": null,
   "metadata": {},
   "outputs": [],
   "source": []
  }
 ],
 "metadata": {
  "kernelspec": {
   "display_name": "Python 3",
   "language": "python",
   "name": "python3"
  },
  "language_info": {
   "codemirror_mode": {
    "name": "ipython",
    "version": 3
   },
   "file_extension": ".py",
   "mimetype": "text/x-python",
   "name": "python",
   "nbconvert_exporter": "python",
   "pygments_lexer": "ipython3",
   "version": "3.7.3"
  }
 },
 "nbformat": 4,
 "nbformat_minor": 2
}
