{
 "cells": [
  {
   "cell_type": "markdown",
   "metadata": {},
   "source": [
    "Представим, что международное круизное агентство Carnival Cruise Line решило себя разрекламировать с помощью баннеров и обратилось для этого к вам. Чтобы протестировать, велика ли от таких баннеров польза, их будет размещено всего 20 штук по всему миру. Вам надо выбрать 20 таких локаций для размещения, чтобы польза была большой и агентство продолжило с вами сотрудничать.\n",
    "Агентство крупное, и у него есть несколько офисов по всему миру. Вблизи этих офисов оно и хочет разместить баннеры — легче договариваться и проверять результат. Также эти места должны быть популярны среди туристов.\n",
    "Для поиска оптимальных мест воспользуемся базой данных крупнейшей социальной сети, основанной на локациях — Foursquare."
   ]
  },
  {
   "cell_type": "code",
   "execution_count": 91,
   "metadata": {},
   "outputs": [],
   "source": [
    "from collections import defaultdict\n",
    "import numpy as np\n",
    "import pandas as pd\n",
    "import matplotlib.pyplot as plt\n",
    "from matplotlib import cm\n",
    "from operator import itemgetter\n",
    "from matplotlib.markers import MarkerStyle\n",
    "from sklearn.cluster import MeanShift\n",
    "from matplotlib.colors import ListedColormap\n",
    "from mpl_toolkits.axes_grid1 import make_axes_locatable\n",
    "\n",
    "\n",
    "pd.options.display.float_format = '{:.5f}'.format"
   ]
  },
  {
   "cell_type": "code",
   "execution_count": 33,
   "metadata": {},
   "outputs": [
    {
     "name": "stderr",
     "output_type": "stream",
     "text": [
      "/Users/macair/anaconda3/lib/python3.7/site-packages/IPython/core/interactiveshell.py:3057: DtypeWarning: Columns (0) have mixed types. Specify dtype option on import or set low_memory=False.\n",
      "  interactivity=interactivity, compiler=compiler, result=result)\n"
     ]
    },
    {
     "data": {
      "text/plain": [
       "(396634, 6)"
      ]
     },
     "execution_count": 33,
     "metadata": {},
     "output_type": "execute_result"
    }
   ],
   "source": [
    "DATA_FILE = '/Users/macair/Python Projects/CourseraML3/umn_foursquare_datasets/checkins.dat'\n",
    "data = pd.read_csv(DATA_FILE, skipinitialspace=True, sep='|')\n",
    "data.dropna(axis=0, inplace=True)\n",
    "data.shape"
   ]
  },
  {
   "cell_type": "code",
   "execution_count": 3,
   "metadata": {},
   "outputs": [
    {
     "data": {
      "text/html": [
       "<div>\n",
       "<style scoped>\n",
       "    .dataframe tbody tr th:only-of-type {\n",
       "        vertical-align: middle;\n",
       "    }\n",
       "\n",
       "    .dataframe tbody tr th {\n",
       "        vertical-align: top;\n",
       "    }\n",
       "\n",
       "    .dataframe thead th {\n",
       "        text-align: right;\n",
       "    }\n",
       "</style>\n",
       "<table border=\"1\" class=\"dataframe\">\n",
       "  <thead>\n",
       "    <tr style=\"text-align: right;\">\n",
       "      <th></th>\n",
       "      <th>id</th>\n",
       "      <th>user_id</th>\n",
       "      <th>venue_id</th>\n",
       "      <th>latitude</th>\n",
       "      <th>longitude</th>\n",
       "      <th>created_at</th>\n",
       "    </tr>\n",
       "  </thead>\n",
       "  <tbody>\n",
       "    <tr>\n",
       "      <th>2</th>\n",
       "      <td>984222</td>\n",
       "      <td>15824.00000</td>\n",
       "      <td>5222.00000</td>\n",
       "      <td>38.89511</td>\n",
       "      <td>-77.03637</td>\n",
       "      <td>2012-04-21 17:43:47</td>\n",
       "    </tr>\n",
       "    <tr>\n",
       "      <th>4</th>\n",
       "      <td>984234</td>\n",
       "      <td>44652.00000</td>\n",
       "      <td>5222.00000</td>\n",
       "      <td>33.80074</td>\n",
       "      <td>-84.41052</td>\n",
       "      <td>2012-04-21 17:43:43</td>\n",
       "    </tr>\n",
       "    <tr>\n",
       "      <th>8</th>\n",
       "      <td>984291</td>\n",
       "      <td>105054.00000</td>\n",
       "      <td>5222.00000</td>\n",
       "      <td>45.52345</td>\n",
       "      <td>-122.67621</td>\n",
       "      <td>2012-04-21 17:39:22</td>\n",
       "    </tr>\n",
       "    <tr>\n",
       "      <th>10</th>\n",
       "      <td>984318</td>\n",
       "      <td>2146539.00000</td>\n",
       "      <td>5222.00000</td>\n",
       "      <td>40.76446</td>\n",
       "      <td>-111.90456</td>\n",
       "      <td>2012-04-21 17:35:46</td>\n",
       "    </tr>\n",
       "    <tr>\n",
       "      <th>11</th>\n",
       "      <td>984232</td>\n",
       "      <td>93870.00000</td>\n",
       "      <td>380645.00000</td>\n",
       "      <td>33.44838</td>\n",
       "      <td>-112.07404</td>\n",
       "      <td>2012-04-21 17:38:18</td>\n",
       "    </tr>\n",
       "    <tr>\n",
       "      <th>12</th>\n",
       "      <td>984483</td>\n",
       "      <td>1030290.00000</td>\n",
       "      <td>955969.00000</td>\n",
       "      <td>32.22174</td>\n",
       "      <td>-110.92648</td>\n",
       "      <td>2012-04-21 17:58:54</td>\n",
       "    </tr>\n",
       "    <tr>\n",
       "      <th>13</th>\n",
       "      <td>984685</td>\n",
       "      <td>304253.00000</td>\n",
       "      <td>23558.00000</td>\n",
       "      <td>40.65000</td>\n",
       "      <td>-73.95000</td>\n",
       "      <td>2012-04-21 18:19:34</td>\n",
       "    </tr>\n",
       "    <tr>\n",
       "      <th>14</th>\n",
       "      <td>984470</td>\n",
       "      <td>720850.00000</td>\n",
       "      <td>749715.00000</td>\n",
       "      <td>33.44838</td>\n",
       "      <td>-112.07404</td>\n",
       "      <td>2012-04-21 17:02:47</td>\n",
       "    </tr>\n",
       "    <tr>\n",
       "      <th>16</th>\n",
       "      <td>984610</td>\n",
       "      <td>1639666.00000</td>\n",
       "      <td>442605.00000</td>\n",
       "      <td>33.41477</td>\n",
       "      <td>-111.90931</td>\n",
       "      <td>2012-04-21 18:04:58</td>\n",
       "    </tr>\n",
       "    <tr>\n",
       "      <th>19</th>\n",
       "      <td>984653</td>\n",
       "      <td>1647192.00000</td>\n",
       "      <td>23558.00000</td>\n",
       "      <td>42.35843</td>\n",
       "      <td>-71.05977</td>\n",
       "      <td>2012-04-21 18:23:22</td>\n",
       "    </tr>\n",
       "  </tbody>\n",
       "</table>\n",
       "</div>"
      ],
      "text/plain": [
       "     id          user_id     venue_id   latitude        longitude       \\\n",
       "2   984222    15824.00000   5222.00000        38.89511       -77.03637   \n",
       "4   984234    44652.00000   5222.00000        33.80074       -84.41052   \n",
       "8   984291   105054.00000   5222.00000        45.52345      -122.67621   \n",
       "10  984318  2146539.00000   5222.00000        40.76446      -111.90456   \n",
       "11  984232    93870.00000 380645.00000        33.44838      -112.07404   \n",
       "12  984483  1030290.00000 955969.00000        32.22174      -110.92648   \n",
       "13  984685   304253.00000  23558.00000        40.65000       -73.95000   \n",
       "14  984470   720850.00000 749715.00000        33.44838      -112.07404   \n",
       "16  984610  1639666.00000 442605.00000        33.41477      -111.90931   \n",
       "19  984653  1647192.00000  23558.00000        42.35843       -71.05977   \n",
       "\n",
       "       created_at        \n",
       "2   2012-04-21 17:43:47  \n",
       "4   2012-04-21 17:43:43  \n",
       "8   2012-04-21 17:39:22  \n",
       "10  2012-04-21 17:35:46  \n",
       "11  2012-04-21 17:38:18  \n",
       "12  2012-04-21 17:58:54  \n",
       "13  2012-04-21 18:19:34  \n",
       "14  2012-04-21 17:02:47  \n",
       "16  2012-04-21 18:04:58  \n",
       "19  2012-04-21 18:23:22  "
      ]
     },
     "execution_count": 3,
     "metadata": {},
     "output_type": "execute_result"
    }
   ],
   "source": [
    "data.head(10)"
   ]
  },
  {
   "cell_type": "code",
   "execution_count": 4,
   "metadata": {},
   "outputs": [
    {
     "data": {
      "text/html": [
       "<div>\n",
       "<style scoped>\n",
       "    .dataframe tbody tr th:only-of-type {\n",
       "        vertical-align: middle;\n",
       "    }\n",
       "\n",
       "    .dataframe tbody tr th {\n",
       "        vertical-align: top;\n",
       "    }\n",
       "\n",
       "    .dataframe thead th {\n",
       "        text-align: right;\n",
       "    }\n",
       "</style>\n",
       "<table border=\"1\" class=\"dataframe\">\n",
       "  <thead>\n",
       "    <tr style=\"text-align: right;\">\n",
       "      <th></th>\n",
       "      <th>user_id</th>\n",
       "      <th>venue_id</th>\n",
       "      <th>latitude</th>\n",
       "      <th>longitude</th>\n",
       "    </tr>\n",
       "  </thead>\n",
       "  <tbody>\n",
       "    <tr>\n",
       "      <th>count</th>\n",
       "      <td>396634.00000</td>\n",
       "      <td>396634.00000</td>\n",
       "      <td>396634.00000</td>\n",
       "      <td>396634.00000</td>\n",
       "    </tr>\n",
       "    <tr>\n",
       "      <th>mean</th>\n",
       "      <td>564134.91281</td>\n",
       "      <td>132755.94129</td>\n",
       "      <td>37.09707</td>\n",
       "      <td>-86.35407</td>\n",
       "    </tr>\n",
       "    <tr>\n",
       "      <th>std</th>\n",
       "      <td>486569.41280</td>\n",
       "      <td>228700.30154</td>\n",
       "      <td>8.77876</td>\n",
       "      <td>37.98368</td>\n",
       "    </tr>\n",
       "    <tr>\n",
       "      <th>min</th>\n",
       "      <td>1.00000</td>\n",
       "      <td>1.00000</td>\n",
       "      <td>-75.25097</td>\n",
       "      <td>-159.67083</td>\n",
       "    </tr>\n",
       "    <tr>\n",
       "      <th>25%</th>\n",
       "      <td>169290.00000</td>\n",
       "      <td>7620.00000</td>\n",
       "      <td>33.80074</td>\n",
       "      <td>-111.92605</td>\n",
       "    </tr>\n",
       "    <tr>\n",
       "      <th>50%</th>\n",
       "      <td>429820.00000</td>\n",
       "      <td>28304.00000</td>\n",
       "      <td>39.09928</td>\n",
       "      <td>-85.75846</td>\n",
       "    </tr>\n",
       "    <tr>\n",
       "      <th>75%</th>\n",
       "      <td>849647.00000</td>\n",
       "      <td>148552.00000</td>\n",
       "      <td>40.80207</td>\n",
       "      <td>-74.05653</td>\n",
       "    </tr>\n",
       "    <tr>\n",
       "      <th>max</th>\n",
       "      <td>2153361.00000</td>\n",
       "      <td>1143011.00000</td>\n",
       "      <td>78.21859</td>\n",
       "      <td>178.42424</td>\n",
       "    </tr>\n",
       "  </tbody>\n",
       "</table>\n",
       "</div>"
      ],
      "text/plain": [
       "           user_id      venue_id   latitude        longitude     \n",
       "count  396634.00000  396634.00000    396634.00000    396634.00000\n",
       "mean   564134.91281  132755.94129        37.09707       -86.35407\n",
       "std    486569.41280  228700.30154         8.77876        37.98368\n",
       "min         1.00000       1.00000       -75.25097      -159.67083\n",
       "25%    169290.00000    7620.00000        33.80074      -111.92605\n",
       "50%    429820.00000   28304.00000        39.09928       -85.75846\n",
       "75%    849647.00000  148552.00000        40.80207       -74.05653\n",
       "max   2153361.00000 1143011.00000        78.21859       178.42424"
      ]
     },
     "execution_count": 4,
     "metadata": {},
     "output_type": "execute_result"
    }
   ],
   "source": [
    "data.describe()"
   ]
  },
  {
   "cell_type": "code",
   "execution_count": 5,
   "metadata": {},
   "outputs": [
    {
     "data": {
      "text/plain": [
       "(10000, 2)"
      ]
     },
     "execution_count": 5,
     "metadata": {},
     "output_type": "execute_result"
    }
   ],
   "source": [
    "X = data.iloc[:, 3:5].values[:10000]\n",
    "X.shape"
   ]
  },
  {
   "cell_type": "code",
   "execution_count": 6,
   "metadata": {},
   "outputs": [
    {
     "data": {
      "text/plain": [
       "(array([ -36.8484597, -158.056892 ]),\n",
       " array([ 67.6314789, 174.7633315]),\n",
       " array([ 7.4977736 , 30.10469603]),\n",
       " array([ 36.47974494, -95.01178031]))"
      ]
     },
     "execution_count": 6,
     "metadata": {},
     "output_type": "execute_result"
    }
   ],
   "source": [
    "X.min(axis=0), X.max(axis=0), X.std(axis=0), X.mean(axis=0)"
   ]
  },
  {
   "cell_type": "code",
   "execution_count": 7,
   "metadata": {},
   "outputs": [],
   "source": [
    "class MeanShift:\n",
    "    def __init__(self):\n",
    "        pass\n",
    "\n",
    "    def euclidian(self, x, xi):\n",
    "        return np.linalg.norm(x - xi, axis=1, keepdims=True)\n",
    "\n",
    "    def neighbours(self, X, x_centered, dist=None):\n",
    "        dists = self.euclidian(X, x_centered)\n",
    "        return dists[np.all(dists <= dist, axis=1)] if dist is None else dists\n",
    "\n",
    "    def gaussian(self, dist, std):\n",
    "        return (1 / (std * np.sqrt(2 * np.pi))) * np.exp(-0.5 * np.power(dist / std, 2))\n",
    "\n",
    "    def _shift(self, X, x, bandwidth, dist=None):\n",
    "        dists = self.neighbours(X, x, dist)\n",
    "        weight = self.gaussian(dists, bandwidth)\n",
    "        return np.multiply(X, weight).sum(axis=0) / weight.sum(axis=0)\n",
    "\n",
    "    def _optimize(self, X, X_init):\n",
    "        # ToDO\n",
    "        return\n",
    "\n",
    "    def _classes(self, n_classes):\n",
    "        sorted_centroids = np.array(sorted(self.centroids, key=itemgetter(*range(self.centroids.shape[1]))))\n",
    "        X = abs(sorted_centroids).mean(axis=1)\n",
    "        classes = defaultdict()\n",
    "        left_i = 0\n",
    "        for n_cls, i in enumerate(np.linspace(X.min(), X.max(), n_classes)):\n",
    "            classes[n_cls] = sorted_centroids[np.logical_and(X >= left_i, X <= i), :]\n",
    "            left_i = i\n",
    "\n",
    "        self.classes = classes\n",
    "\n",
    "    def fit(self, X, n_classes=None, max_iter=3, radius=None, bandwidth=0.5):\n",
    "        X_init = np.copy(X)\n",
    "        optimized = False\n",
    "        for _ in range(max_iter):\n",
    "            radius = np.abs(2 * X_init.std(axis=0))\n",
    "            for i in range(X_init.shape[0]):\n",
    "                X_init[i] = self._shift(X, X_init[i], bandwidth, radius)\n",
    "\n",
    "        self.centroids = X_init\n",
    "        \n",
    "        if n_classes:\n",
    "            self._classes(n_classes)\n",
    "    def cls_probs(self):\n",
    "\n",
    "        probs = defaultdict()\n",
    "        for c, v in self.classes.items():\n",
    "            x, y = v[:,0], v[:, 1]\n",
    "            x_min, x_max = x.min(), x.max()\n",
    "            y_min, y_max = y.min(), y.max()\n",
    "            xx, yy = np.meshgrid(np.linspace(x_min, x_max, 50), np.linspace(y_min, y_max, 50))\n",
    "            x_centeroid = (xx + yy).mean(axis=0)\n",
    "            dists = self.euclidian(np.hstack(xx, yy), x_centeroid)\n",
    "            weight = self.gaussian(dists, dists.std(axis=0))\n",
    "            \n",
    "            # x_centeroid = v.mean(axis=0)\n",
    "            # dists = self.euclidian(v, x_centeroid)\n",
    "            # weight = self.gaussian(dists, dists.std(axis=0))\n",
    "            probs[c] = weight\n",
    "\n",
    "        self.probs = probs"
   ]
  },
  {
   "cell_type": "code",
   "execution_count": 8,
   "metadata": {},
   "outputs": [],
   "source": [
    "n_classes, max_iter, radius, bandwidth = 2, 10, None, 7"
   ]
  },
  {
   "cell_type": "code",
   "execution_count": 208,
   "metadata": {},
   "outputs": [
    {
     "name": "stdout",
     "output_type": "stream",
     "text": [
      "CPU times: user 48.5 s, sys: 1.19 s, total: 49.6 s\n",
      "Wall time: 50.8 s\n"
     ]
    }
   ],
   "source": [
    "%%time\n",
    "meanshift = MeanShift()\n",
    "meanshift.fit(X, n_classes, max_iter, radius, bandwidth)"
   ]
  },
  {
   "cell_type": "code",
   "execution_count": 209,
   "metadata": {},
   "outputs": [],
   "source": [
    "classes = meanshift.classes"
   ]
  },
  {
   "cell_type": "code",
   "execution_count": 210,
   "metadata": {},
   "outputs": [],
   "source": [
    "centroids = np.array(meanshift.centroids)"
   ]
  },
  {
   "cell_type": "code",
   "execution_count": 211,
   "metadata": {},
   "outputs": [
    {
     "data": {
      "text/plain": [
       "(array([ -36.81643578, -157.38228321]),\n",
       " array([ 62.36844302, 174.50308344]),\n",
       " array([ 6.41566074, 29.97506026]),\n",
       " array([ 36.31278606, -94.0450174 ]))"
      ]
     },
     "execution_count": 211,
     "metadata": {},
     "output_type": "execute_result"
    }
   ],
   "source": [
    "centroids.min(axis=0), centroids.max(axis=0), centroids.std(axis=0), centroids.mean(axis=0)"
   ]
  },
  {
   "cell_type": "code",
   "execution_count": 212,
   "metadata": {},
   "outputs": [],
   "source": [
    "classes = meanshift.classes"
   ]
  },
  {
   "cell_type": "code",
   "execution_count": 213,
   "metadata": {},
   "outputs": [
    {
     "ename": "TypeError",
     "evalue": "hstack() takes 1 positional argument but 2 were given",
     "output_type": "error",
     "traceback": [
      "\u001b[0;31m---------------------------------------------------------------------------\u001b[0m",
      "\u001b[0;31mTypeError\u001b[0m                                 Traceback (most recent call last)",
      "\u001b[0;32m<ipython-input-213-4aa385e870f0>\u001b[0m in \u001b[0;36m<module>\u001b[0;34m\u001b[0m\n\u001b[0;32m----> 1\u001b[0;31m \u001b[0mmeanshift\u001b[0m\u001b[0;34m.\u001b[0m\u001b[0mcls_probs\u001b[0m\u001b[0;34m(\u001b[0m\u001b[0;34m)\u001b[0m\u001b[0;34m\u001b[0m\u001b[0;34m\u001b[0m\u001b[0m\n\u001b[0m\u001b[1;32m      2\u001b[0m \u001b[0mprobs\u001b[0m \u001b[0;34m=\u001b[0m \u001b[0mmeanshift\u001b[0m\u001b[0;34m.\u001b[0m\u001b[0mprobs\u001b[0m\u001b[0;34m\u001b[0m\u001b[0;34m\u001b[0m\u001b[0m\n",
      "\u001b[0;32m<ipython-input-206-ae76cb5469e1>\u001b[0m in \u001b[0;36mcls_probs\u001b[0;34m(self)\u001b[0m\n\u001b[1;32m     54\u001b[0m             \u001b[0mxx\u001b[0m\u001b[0;34m,\u001b[0m \u001b[0myy\u001b[0m \u001b[0;34m=\u001b[0m \u001b[0mnp\u001b[0m\u001b[0;34m.\u001b[0m\u001b[0mmeshgrid\u001b[0m\u001b[0;34m(\u001b[0m\u001b[0mnp\u001b[0m\u001b[0;34m.\u001b[0m\u001b[0mlinspace\u001b[0m\u001b[0;34m(\u001b[0m\u001b[0mx_min\u001b[0m\u001b[0;34m,\u001b[0m \u001b[0mx_max\u001b[0m\u001b[0;34m,\u001b[0m \u001b[0;36m50\u001b[0m\u001b[0;34m)\u001b[0m\u001b[0;34m,\u001b[0m \u001b[0mnp\u001b[0m\u001b[0;34m.\u001b[0m\u001b[0mlinspace\u001b[0m\u001b[0;34m(\u001b[0m\u001b[0my_min\u001b[0m\u001b[0;34m,\u001b[0m \u001b[0my_max\u001b[0m\u001b[0;34m,\u001b[0m \u001b[0;36m50\u001b[0m\u001b[0;34m)\u001b[0m\u001b[0;34m)\u001b[0m\u001b[0;34m\u001b[0m\u001b[0;34m\u001b[0m\u001b[0m\n\u001b[1;32m     55\u001b[0m             \u001b[0mx_centeroid\u001b[0m \u001b[0;34m=\u001b[0m \u001b[0;34m(\u001b[0m\u001b[0mxx\u001b[0m \u001b[0;34m+\u001b[0m \u001b[0myy\u001b[0m\u001b[0;34m)\u001b[0m\u001b[0;34m.\u001b[0m\u001b[0mmean\u001b[0m\u001b[0;34m(\u001b[0m\u001b[0maxis\u001b[0m\u001b[0;34m=\u001b[0m\u001b[0;36m0\u001b[0m\u001b[0;34m)\u001b[0m\u001b[0;34m\u001b[0m\u001b[0;34m\u001b[0m\u001b[0m\n\u001b[0;32m---> 56\u001b[0;31m             \u001b[0mdists\u001b[0m \u001b[0;34m=\u001b[0m \u001b[0mself\u001b[0m\u001b[0;34m.\u001b[0m\u001b[0meuclidian\u001b[0m\u001b[0;34m(\u001b[0m\u001b[0mnp\u001b[0m\u001b[0;34m.\u001b[0m\u001b[0mhstack\u001b[0m\u001b[0;34m(\u001b[0m\u001b[0mxx\u001b[0m\u001b[0;34m,\u001b[0m \u001b[0myy\u001b[0m\u001b[0;34m)\u001b[0m\u001b[0;34m,\u001b[0m \u001b[0mx_centeroid\u001b[0m\u001b[0;34m)\u001b[0m\u001b[0;34m\u001b[0m\u001b[0;34m\u001b[0m\u001b[0m\n\u001b[0m\u001b[1;32m     57\u001b[0m             \u001b[0mweight\u001b[0m \u001b[0;34m=\u001b[0m \u001b[0mself\u001b[0m\u001b[0;34m.\u001b[0m\u001b[0mgaussian\u001b[0m\u001b[0;34m(\u001b[0m\u001b[0mdists\u001b[0m\u001b[0;34m,\u001b[0m \u001b[0mdists\u001b[0m\u001b[0;34m.\u001b[0m\u001b[0mstd\u001b[0m\u001b[0;34m(\u001b[0m\u001b[0maxis\u001b[0m\u001b[0;34m=\u001b[0m\u001b[0;36m0\u001b[0m\u001b[0;34m)\u001b[0m\u001b[0;34m)\u001b[0m\u001b[0;34m\u001b[0m\u001b[0;34m\u001b[0m\u001b[0m\n\u001b[1;32m     58\u001b[0m \u001b[0;34m\u001b[0m\u001b[0m\n",
      "\u001b[0;31mTypeError\u001b[0m: hstack() takes 1 positional argument but 2 were given"
     ]
    }
   ],
   "source": [
    "meanshift.cls_probs()\n",
    "probs = meanshift.probs"
   ]
  },
  {
   "cell_type": "code",
   "execution_count": 204,
   "metadata": {},
   "outputs": [
    {
     "data": {
      "image/png": "[encoded data removed]",
      "text/plain": [
       "<Figure size 720x576 with 1 Axes>"
      ]
     },
     "metadata": {
      "needs_background": "light"
     },
     "output_type": "display_data"
    }
   ],
   "source": [
    "plt.figure(figsize=(10, 8))\n",
    "plt.scatter(X[:, 0], X[:, 1], color='y', s=100, alpha=0.3)\n",
    "plt.scatter(centroids[:, 0], centroids[:, 1], color='r', marker='*', s=100, alpha=0.2)\n",
    "plt.title(f'MS iter: {max_iter}; bandwidth: {bandwidth}')\n",
    "plt.show()"
   ]
  },
  {
   "cell_type": "code",
   "execution_count": null,
   "metadata": {},
   "outputs": [],
   "source": [
    "plt.figure(figsize=(10, 8))\n",
    "plt.scatter(X[:, 0], X[:, 1], color='gray', s=100, alpha=0.1, marker='.')\n",
    "\n",
    "cmap = iter(cm.rainbow(np.linspace(0, 1, n_classes)))\n",
    "markers = MarkerStyle.markers\n",
    "markers = iter(list(filter(lambda k: not str(k).isdigit() and k not in [None, 'None', ' ', '', '>', '<'], markers.keys())))\n",
    "for it, (c, v) in enumerate(classes.items()):\n",
    "    plt.scatter(v[:, 0], v[:, 1], color=next(cmap), marker=next(markers), s=100, alpha=0.4, label=f'cls{it}')\n",
    "#     plt.contour(v[:, 0], v[:, 1], probs[c])\n",
    "\n",
    "plt.title(f'MS iter: {max_iter}; bandwidth: {bandwidth}')\n",
    "plt.xlabel('latitude')\n",
    "plt.ylabel('longitude')\n",
    "plt.legend()\n",
    "plt.show()"
   ]
  },
  {
   "cell_type": "code",
   "execution_count": 21,
   "metadata": {},
   "outputs": [],
   "source": [
    "bandwidth = 0.1\n",
    "min_freq = 15\n",
    "meanshift = MeanShift(bandwidth=bandwidth, n_jobs=2)"
   ]
  },
  {
   "cell_type": "code",
   "execution_count": 22,
   "metadata": {},
   "outputs": [],
   "source": [
    "n = 100000\n",
    "X = data.iloc[:n, 3:5].values"
   ]
  },
  {
   "cell_type": "code",
   "execution_count": 23,
   "metadata": {},
   "outputs": [
    {
     "name": "stdout",
     "output_type": "stream",
     "text": [
      "CPU times: user 23.1 s, sys: 4.75 s, total: 27.9 s\n",
      "Wall time: 8min 57s\n"
     ]
    },
    {
     "data": {
      "text/plain": [
       "MeanShift(bandwidth=0.1, bin_seeding=False, cluster_all=True, min_bin_freq=1,\n",
       "          n_jobs=2, seeds=None)"
      ]
     },
     "execution_count": 23,
     "metadata": {},
     "output_type": "execute_result"
    }
   ],
   "source": [
    "%%time\n",
    "meanshift.fit(X)"
   ]
  },
  {
   "cell_type": "code",
   "execution_count": 24,
   "metadata": {},
   "outputs": [],
   "source": [
    "labels = meanshift.labels_\n",
    "centers = meanshift.cluster_centers_"
   ]
  },
  {
   "cell_type": "code",
   "execution_count": 25,
   "metadata": {},
   "outputs": [],
   "source": [
    "classes, counts = np.unique(labels, return_counts=True)\n",
    "inds = np.where(counts > min_freq)"
   ]
  },
  {
   "cell_type": "code",
   "execution_count": 75,
   "metadata": {},
   "outputs": [],
   "source": [
    "max_dense_cls = 50\n",
    "cls = classes[:max_dense_cls]"
   ]
  },
  {
   "cell_type": "code",
   "execution_count": 74,
   "metadata": {},
   "outputs": [],
   "source": [
    "pred_c = meanshift.predict(X)"
   ]
  },
  {
   "cell_type": "code",
   "execution_count": 76,
   "metadata": {},
   "outputs": [],
   "source": [
    "cls_s, counts = np.unique(pred_c, return_counts=True)"
   ]
  },
  {
   "cell_type": "code",
   "execution_count": 73,
   "metadata": {},
   "outputs": [
    {
     "data": {
      "text/plain": [
       "(52826, 46580)"
      ]
     },
     "execution_count": 73,
     "metadata": {},
     "output_type": "execute_result"
    }
   ],
   "source": [
    "counts[:50].sum(), counts[30:].sum()"
   ]
  },
  {
   "cell_type": "code",
   "execution_count": 77,
   "metadata": {},
   "outputs": [],
   "source": [
    "pred_c[np.isin(pred_c, range(max_dense_cls), invert=True)] =  max_dense_cls + 1"
   ]
  },
  {
   "cell_type": "code",
   "execution_count": 78,
   "metadata": {},
   "outputs": [
    {
     "data": {
      "text/plain": [
       "(array([ 0,  1,  2,  3,  4,  5,  6,  7,  8,  9, 10, 11, 12, 13, 14, 15, 16,\n",
       "        17, 18, 19, 20, 21, 22, 23, 24, 25, 26, 27, 28, 29, 30, 31, 32, 33,\n",
       "        34, 35, 36, 37, 38, 39, 40, 41, 42, 43, 44, 45, 46, 47, 48, 49, 51]),\n",
       " array([12506,  4692,  3994,  3363,  3526,  2409,  2297,  1601,  1526,\n",
       "         1378,  1298,  1081,  1006,  1007,   714,   868,   870,   645,\n",
       "          808,   807,   612,   722,   754,   747,   539,   656,   580,\n",
       "          577,   679,   564,   594,   907,   449,   502,   452,   104,\n",
       "          431,   410,   388,   400,   369,   367,   384,   347,   345,\n",
       "          342,   314,   273,   314,   316, 39166]))"
      ]
     },
     "execution_count": 78,
     "metadata": {},
     "output_type": "execute_result"
    }
   ],
   "source": [
    "np.unique(pred_c, return_counts=True)"
   ]
  },
  {
   "cell_type": "code",
   "execution_count": 79,
   "metadata": {},
   "outputs": [],
   "source": [
    "cmap = cm.get_cmap('viridis', cls.size + 1)"
   ]
  },
  {
   "cell_type": "code",
   "execution_count": 80,
   "metadata": {},
   "outputs": [
    {
     "name": "stdout",
     "output_type": "stream",
     "text": [
      "100000\n"
     ]
    },
    {
     "data": {
      "text/plain": [
       "(100000, 2)"
      ]
     },
     "execution_count": 80,
     "metadata": {},
     "output_type": "execute_result"
    }
   ],
   "source": [
    "print(pred_c.size)\n",
    "cmap(pred_c)[:3]\n",
    "X.shape"
   ]
  },
  {
   "cell_type": "code",
   "execution_count": 98,
   "metadata": {},
   "outputs": [
    {
     "data": {
      "image/png": "[encoded data removed]",
      "text/plain": [
       "<Figure size 864x720 with 2 Axes>"
      ]
     },
     "metadata": {
      "needs_background": "light"
     },
     "output_type": "display_data"
    }
   ],
   "source": [
    "fig, ax = plt.subplots(figsize=(12, 10))\n",
    "divider = make_axes_locatable(ax)\n",
    "cax = divider.append_axes(\"right\", size=\"5%\", pad=0.2)\n",
    "pic = ax.scatter(X[:, 0], X[:, 1], c=cmap(pred_c), alpha=0.1)\n",
    "ax.scatter(centers[:20, 0], centers[:20, 1], alpha=0.5, color='r', label='centroids')\n",
    "plt.colorbar(pic, cax=cax)\n",
    "plt.xlabel('latitude')\n",
    "plt.ylabel('longitude')\n",
    "plt.title('MeanShift clusters')\n",
    "plt.grid()\n",
    "plt.show()"
   ]
  },
  {
   "cell_type": "code",
   "execution_count": 18,
   "metadata": {},
   "outputs": [
    {
     "data": {
      "text/plain": [
       "array([0, 1, 2, 3, 4, 5, 6, 7, 8])"
      ]
     },
     "execution_count": 18,
     "metadata": {},
     "output_type": "execute_result"
    }
   ],
   "source": [
    "centers[inds]"
   ]
  },
  {
   "cell_type": "code",
   "execution_count": null,
   "metadata": {},
   "outputs": [],
   "source": []
  }
 ],
 "metadata": {
  "kernelspec": {
   "display_name": "Python 3",
   "language": "python",
   "name": "python3"
  },
  "language_info": {
   "codemirror_mode": {
    "name": "ipython",
    "version": 3
   },
   "file_extension": ".py",
   "mimetype": "text/x-python",
   "name": "python",
   "nbconvert_exporter": "python",
   "pygments_lexer": "ipython3",
   "version": "3.7.3"
  }
 },
 "nbformat": 4,
 "nbformat_minor": 2
}
