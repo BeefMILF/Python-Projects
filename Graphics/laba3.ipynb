{
 "cells": [
  {
   "cell_type": "markdown",
   "metadata": {},
   "source": [
    "Функция (Конус):\n",
    "\n",
    "𝑥=𝑟cos𝜃,𝑦=𝑟sin𝜃\n",
    "\n",
    "Это уравнение в каноническом виде записывается как:\n",
    "$${\\frac  {x^{2}}{a^{2}}}+{\\frac  {y^{2}}{a^{2}}}-{\\frac  {z^{2}}{c^{2}}}=0,$$\n",
    "\n",
    "radius of circular sector:\n",
    "$${\\displaystyle R={\\sqrt {r^{2}+h^{2}}}}$$\n",
    "\n",
    "Volume:\n",
    "$${\\displaystyle V={\\frac {1}{3}}A_{B}h.}$$"
   ]
  },
  {
   "cell_type": "code",
   "execution_count": null,
   "metadata": {},
   "outputs": [],
   "source": [
    "import numpy as np\n",
    "import matplotlib.pyplot as plt\n",
    "from matplotlib import cm\n",
    "from mpl_toolkits.mplot3d import Axes3D\n",
    "import seaborn as sb\n",
    "import pandas as pd\n",
    "from scipy.optimize import linprog\n",
    "# import sympy as sm\n",
    "\n",
    "%matplotlib inline\n",
    "\n",
    "from random import randint\n",
    "from math import pi, sqrt\n",
    "\n",
    "\n",
    "# r = float(input(\"Enter R[1; h]: \"))\n",
    "r = 10\n",
    "\n",
    "\n",
    "# generate params\n",
    "fi = np.linspace(0, 2 * np.pi, 100)\n",
    "R = np.linspace(0, r, 100)\n",
    "fi, R = np.meshgrid(fi, R)\n",
    "\n",
    "# generate coords\n",
    "x = R * np.cos(fi)\n",
    "y = R * np.sin(fi)\n",
    "z = np.sqrt(x ** 2 + y ** 2)\n",
    "\n",
    "\n",
    "def draw3d(r):\n",
    "    \"\"\"\n",
    "        draw cone:\n",
    "    \"\"\"\n",
    "    # get current axis\n",
    "    fig = plt.figure(figsize=(10, 10))\n",
    "    ax = fig.gca(projection='3d')\n",
    "\n",
    "    # plot surface\n",
    "    ax.plot_surface(x, y, z, alpha=0.2, color='yellow')\n",
    "    ax.plot_surface(x, np.absolute(y), z, alpha=0.1, color='red')\n",
    "    surf = ax.plot_surface(x, y, np.full((100, 100), r), alpha=0.5, color='green')    \n",
    "    \n",
    "    ax.set_xlabel('x')\n",
    "    ax.set_ylabel('y')\n",
    "    ax.set_zlabel('z')\n",
    "\n",
    "    # X, Y, Z Bounds\n",
    "    X, Y, Z = ax.get_xlim(), ax.get_ylim(), ax.get_zlim()\n",
    "\n",
    "    plt.show()\n",
    "    \n",
    "    return X, Y, Z\n",
    "    \n",
    "X, Y, Z = draw3d(r)\n",
    "\n",
    "print(f'X bounds: {X}')\n",
    "print(f'Y bounds: {Y}')\n",
    "print(f'Z bounds: {Z}')"
   ]
  },
  {
   "cell_type": "code",
   "execution_count": null,
   "metadata": {},
   "outputs": [],
   "source": [
    "def find_min(*args):\n",
    "    import time\n",
    "    start = time.time()\n",
    "    c, A_ub, b_ub, A_eq, b_eq = args\n",
    "    res = linprog(c, A_ub=A_ub, b_ub=b_ub, A_eq=A_eq, b_eq=b_eq)\n",
    "    stop = time.time()\n",
    "    return stop - start, res\n",
    "\n",
    "# 2. Find Global Extremum - global minimum\n",
    "search_time, res = find_min([r, r], [[r, r], ], [r], [[r, r], ], [Z[0]])\n",
    "print(f'Time: {search_time}')\n",
    "extr_x, extr_y = res.x\n",
    "print(f'Global min:\\n\\tx = {extr_x:.16f}, y = {extr_y:.16f}, z = {Z[0]}')"
   ]
  },
  {
   "cell_type": "code",
   "execution_count": null,
   "metadata": {},
   "outputs": [],
   "source": [
    "def draw3dZ():\n",
    "    \"\"\"\n",
    "        draw cone:\n",
    "    \"\"\"\n",
    "    # get current axis\n",
    "    fig = plt.figure(figsize=(10, 10))\n",
    "    ax = fig.gca(projection='3d')\n",
    "    \n",
    "    # 1. Plot surface by z value\n",
    "    surf = ax.plot_surface(x, y, z, alpha=0.3, cmap=cm.coolwarm)\n",
    "    fig.colorbar(surf, shrink=0.5, aspect=5)\n",
    "        \n",
    "    ax.set_xlabel('x')\n",
    "    ax.set_ylabel('y')\n",
    "    ax.set_zlabel('z')\n",
    "    \n",
    "    plt.show()"
   ]
  },
  {
   "cell_type": "code",
   "execution_count": null,
   "metadata": {},
   "outputs": [],
   "source": [
    "def findIntervals():\n",
    "    # 3. Find Incr/Decr intervals\n",
    "    pass\n"
   ]
  },
  {
   "cell_type": "code",
   "execution_count": null,
   "metadata": {},
   "outputs": [],
   "source": [
    "def showDistribution():\n",
    "    # 4. Pair Distribution\n",
    "    dataset = pd.DataFrame({'x': x.ravel(), 'y': y.ravel(), 'z': y.ravel()})\n",
    "    sb.pairplot(dataset)\n",
    "    plt.show()"
   ]
  },
  {
   "cell_type": "code",
   "execution_count": null,
   "metadata": {},
   "outputs": [],
   "source": []
  }
 ],
 "metadata": {
  "kernelspec": {
   "display_name": "Python 3",
   "language": "python",
   "name": "python3"
  },
  "language_info": {
   "codemirror_mode": {
    "name": "ipython",
    "version": 3
   },
   "file_extension": ".py",
   "mimetype": "text/x-python",
   "name": "python",
   "nbconvert_exporter": "python",
   "pygments_lexer": "ipython3",
   "version": "3.7.3"
  }
 },
 "nbformat": 4,
 "nbformat_minor": 2
}
