{
 "cells": [
  {
   "cell_type": "markdown",
   "metadata": {},
   "source": [
    "**Rвн** "
   ]
  },
  {
   "cell_type": "code",
   "execution_count": 20,
   "metadata": {},
   "outputs": [
    {
     "name": "stdout",
     "output_type": "stream",
     "text": [
      "Rn1 = 7.29, Rn2 = 14.29\n"
     ]
    }
   ],
   "source": [
    "E1, E2 = 21.2, 10.1\n",
    "Un1, Un2 = 20.5, 10.0\n",
    "In1, In2 = 96, 7\n",
    "Rn1, Rn2 = round((E1 - Un1) / (In1 / 1000), 2), round((E2 - Un2) / (In2 / 1000), 2)\n",
    "print(f'Rn1 = {Rn1}, Rn2 = {Rn2}')"
   ]
  },
  {
   "cell_type": "markdown",
   "metadata": {},
   "source": [
    "__Набор R__"
   ]
  },
  {
   "cell_type": "code",
   "execution_count": 21,
   "metadata": {},
   "outputs": [],
   "source": [
    "R = [50, 75, 100, 155, 200]"
   ]
  },
  {
   "cell_type": "markdown",
   "metadata": {},
   "source": [
    "## Нерозгалужене(розімкнене) коло"
   ]
  },
  {
   "cell_type": "markdown",
   "metadata": {},
   "source": [
    "__Знайдемо I__"
   ]
  },
  {
   "cell_type": "code",
   "execution_count": 22,
   "metadata": {},
   "outputs": [
    {
     "name": "stdout",
     "output_type": "stream",
     "text": [
      "I1 = I2 = 22.0, I3 = 0\n"
     ]
    }
   ],
   "source": [
    "I = round((E1 - E2) / (sum(R[:2] + R[3:] + [Rn1, Rn2])), 3)\n",
    "I1, I2 = [I] * 2\n",
    "I3 = 0\n",
    "print(f'I1 = I2 = {I * 1000}, I3 = {I3}')"
   ]
  },
  {
   "cell_type": "markdown",
   "metadata": {},
   "source": [
    "__Знайдемо Потенціали__"
   ]
  },
  {
   "cell_type": "code",
   "execution_count": 23,
   "metadata": {},
   "outputs": [
    {
     "name": "stdout",
     "output_type": "stream",
     "text": [
      "f(1-6) = 0, 3.41, 7.81, 18.224, 19.874, 20.974\n"
     ]
    }
   ],
   "source": [
    "f1 = 0\n",
    "f2 = round(f1 + I * R[4 - 1], 3)\n",
    "f3 = round(f2 + I * R[5 - 1], 3)\n",
    "f4 = round(f3 + I * Rn2 + E2, 3)\n",
    "f5 = round(f4 + I * R[2 - 1], 3)\n",
    "f6 = round(f5 + I * R[1 - 1], 3)\n",
    "print(f'f(1-6) = {f1}, {f2}, {f3}, {f4}, {f5}, {f6}')"
   ]
  },
  {
   "cell_type": "code",
   "execution_count": 24,
   "metadata": {},
   "outputs": [
    {
     "data": {
      "text/plain": [
       "[0, 3.41, 7.81, 18.224, 19.874, 20.974]"
      ]
     },
     "execution_count": 24,
     "metadata": {},
     "output_type": "execute_result"
    }
   ],
   "source": [
    "f = [f1, f2, f3, f4, f5, f6]\n",
    "f"
   ]
  },
  {
   "cell_type": "markdown",
   "metadata": {},
   "source": [
    "__Знайдемо Напруги__"
   ]
  },
  {
   "cell_type": "code",
   "execution_count": 25,
   "metadata": {},
   "outputs": [
    {
     "name": "stdout",
     "output_type": "stream",
     "text": [
      "U(12-61) = 3.41, 4.4, 10.414, 1.65, 1.1, -20.974\n",
      "Sum U: 0.0\n"
     ]
    }
   ],
   "source": [
    "U = list([round(r - l, 3) for l, r in zip(f, f[1:] + [f[0]])])\n",
    "print(f\"U(12-61) = {', '.join(map(str, U))}\")\n",
    "print(f'Sum U: {sum(U)}')"
   ]
  },
  {
   "cell_type": "code",
   "execution_count": 26,
   "metadata": {},
   "outputs": [
    {
     "name": "stdout",
     "output_type": "stream",
     "text": [
      "-0.10000000000000142\n"
     ]
    }
   ],
   "source": [
    "print(sum([4.5, 5.7, 6.3, 3.2, 1.4, -21.2]))"
   ]
  },
  {
   "cell_type": "markdown",
   "metadata": {},
   "source": [
    "## Розгалужене(розімкнене) коло"
   ]
  },
  {
   "cell_type": "code",
   "execution_count": 27,
   "metadata": {},
   "outputs": [
    {
     "name": "stdout",
     "output_type": "stream",
     "text": [
      "11.1\n",
      "212.29 289.29\n"
     ]
    }
   ],
   "source": [
    "print(round(E1 - E2, 2))\n",
    "print(round(R[1 - 1] + Rn1 + R[4 - 1], 2), round(R[5 - 1] + Rn2 + R[2 - 1], 2))"
   ]
  },
  {
   "cell_type": "markdown",
   "metadata": {},
   "source": [
    "__Знайдемо I__"
   ]
  },
  {
   "cell_type": "code",
   "execution_count": 28,
   "metadata": {},
   "outputs": [
    {
     "name": "stdout",
     "output_type": "stream",
     "text": [
      "I1 = 64.0, I2 = -9.0, I3 = 73.0\n"
     ]
    }
   ],
   "source": [
    "I1, I2, I3 = 0.064, -0.009, 0.073\n",
    "print(f'I1 = {I1 * 1000}, I2 = {I2 * 1000}, I3 = {I3 * 1000}')"
   ]
  },
  {
   "cell_type": "markdown",
   "metadata": {},
   "source": [
    "__Знайдемо Потенціали__"
   ]
  },
  {
   "cell_type": "code",
   "execution_count": 29,
   "metadata": {},
   "outputs": [
    {
     "name": "stdout",
     "output_type": "stream",
     "text": [
      "f(1-6) = 0, 9.92, 8.12, 18.091, 17.416, 20.616\n"
     ]
    }
   ],
   "source": [
    "f1 = 0\n",
    "f2 = round(f1 + I1 * R[4 - 1], 3)\n",
    "f3 = round(f2 + I2 * R[5 - 1], 3)\n",
    "f4 = round(f3 + I2 * Rn2 + E2, 3)\n",
    "f5 = round(f4 + I2 * R[2 - 1], 3)\n",
    "f6 = round(f5 + I1 * R[1 - 1], 3)\n",
    "print(f'f(1-6) = {f1}, {f2}, {f3}, {f4}, {f5}, {f6}')"
   ]
  },
  {
   "cell_type": "code",
   "execution_count": 30,
   "metadata": {},
   "outputs": [],
   "source": [
    "f = [f1, f2, f3, f4, f5, f6]"
   ]
  },
  {
   "cell_type": "code",
   "execution_count": 31,
   "metadata": {},
   "outputs": [
    {
     "name": "stdout",
     "output_type": "stream",
     "text": [
      "U(12-61) = 9.92, -1.8, 9.971, -0.675, 3.2, -20.616\n",
      "Sum U: 0.0\n"
     ]
    }
   ],
   "source": [
    "U = list([round(r - l, 3) for l, r in zip(f, f[1:] + [f[0]])])\n",
    "print(f\"U(12-61) = {', '.join(map(str, U))}\")\n",
    "print(f'Sum U: {sum(U)}')"
   ]
  },
  {
   "cell_type": "code",
   "execution_count": 32,
   "metadata": {},
   "outputs": [
    {
     "name": "stdout",
     "output_type": "stream",
     "text": [
      "0.6000000000000014\n"
     ]
    }
   ],
   "source": [
    "print(sum([11.2, 2.4, 2.7, 1.5, 3.7, -20.9]))"
   ]
  },
  {
   "cell_type": "code",
   "execution_count": 33,
   "metadata": {},
   "outputs": [
    {
     "name": "stdout",
     "output_type": "stream",
     "text": [
      "580\n"
     ]
    }
   ],
   "source": [
    "print(sum(R))"
   ]
  },
  {
   "cell_type": "code",
   "execution_count": 34,
   "metadata": {},
   "outputs": [],
   "source": [
    "import matplotlib.pyplot as plt"
   ]
  },
  {
   "cell_type": "code",
   "execution_count": 35,
   "metadata": {},
   "outputs": [],
   "source": [
    "f1, f2, f3, f4, f5, f6 = [0, 3.41, 7.81, 18.224, 19.874, 20.974]\n",
    "R1, R2, R3, R4, R5 = [50, 75, 100, 155, 200]\n",
    "x, y = [0, R4, R4 + R5, R4 + R5 + Rn2, R4 + R5 + Rn2 + R2, R4 + R5 + Rn2 + R2 + R1], [f1, f2, f3, f4, f5, f6]"
   ]
  },
  {
   "cell_type": "markdown",
   "metadata": {},
   "source": [
    "## Побудуємо потенціальну діаграму"
   ]
  },
  {
   "cell_type": "markdown",
   "metadata": {},
   "source": [
    "__Нерозгалужене коло__"
   ]
  },
  {
   "cell_type": "code",
   "execution_count": 36,
   "metadata": {},
   "outputs": [
    {
     "data": {
      "image/png": "[encoded data removed]",
      "text/plain": [
       "<Figure size 720x360 with 1 Axes>"
      ]
     },
     "metadata": {
      "needs_background": "light"
     },
     "output_type": "display_data"
    }
   ],
   "source": [
    "plt.figure(figsize=[10, 5])\n",
    "plt.plot(x, y, 'bo', color='pink')\n",
    "ax = plt.gca()\n",
    "c = 1\n",
    "for x0, y0 in zip(x, y):\n",
    "    ax.annotate(f'fi{c}', (x0 - 1, y0 - 1))\n",
    "    c += 1\n",
    "\n",
    "plt.plot(x, y)\n",
    "plt.xlabel('R, Ом')\n",
    "plt.ylabel('fi, В')\n",
    "plt.grid(True)\n",
    "plt.show()"
   ]
  },
  {
   "cell_type": "code",
   "execution_count": 37,
   "metadata": {},
   "outputs": [],
   "source": [
    "f1, f2, f3, f4, f5, f6 = [0, 9.92, 8.12, 18.091, 17.416, 20.616]\n",
    "R1, R2, R3, R4, R5 = [50, 75, 100, 155, 200]\n",
    "x, y = [0, R4, R4 + R5, R4 + R5 + Rn2, R4 + R5 + Rn2 + R2, R4 + R5 + Rn2 + R2 + R1], [f1, f2, f3, f4, f5, f6]"
   ]
  },
  {
   "cell_type": "markdown",
   "metadata": {},
   "source": [
    "__Розгалужене коло__"
   ]
  },
  {
   "cell_type": "code",
   "execution_count": 38,
   "metadata": {},
   "outputs": [
    {
     "data": {
      "image/png": "[encoded data removed]",
      "text/plain": [
       "<Figure size 720x360 with 1 Axes>"
      ]
     },
     "metadata": {
      "needs_background": "light"
     },
     "output_type": "display_data"
    }
   ],
   "source": [
    "plt.figure(figsize=[10, 5])\n",
    "plt.plot(x, y, 'bo', color='pink')\n",
    "ax = plt.gca()\n",
    "c = 1\n",
    "for x0, y0 in zip(x, y):\n",
    "    ax.annotate(f'fi{c}', (x0 - 1, y0 - 1))\n",
    "    c += 1\n",
    "\n",
    "plt.plot(x, y)\n",
    "plt.xlabel('R, Ом')\n",
    "plt.ylabel('fi, В')\n",
    "plt.grid(True)\n",
    "plt.show()"
   ]
  },
  {
   "cell_type": "markdown",
   "metadata": {},
   "source": [
    "## Висновок:"
   ]
  },
  {
   "cell_type": "markdown",
   "metadata": {},
   "source": [
    "В цій лабораторній я перевірив на практиці/досліді основні закони Ома та Кірхгофа. Побудував потенціальну діаграму для нерозгалуженого електричного кола постійного струму. Закріпив навички використання цифрового мультиметра в режимах (A, V, Om). Деякі теоретичні результати досить відрізняються від експерементально встановлених. Зумовлено тим, що наявна похибка на приборі, а також неточність при вимірюванні. "
   ]
  },
  {
   "cell_type": "code",
   "execution_count": null,
   "metadata": {},
   "outputs": [],
   "source": []
  }
 ],
 "metadata": {
  "kernelspec": {
   "display_name": "Python 3",
   "language": "python",
   "name": "python3"
  },
  "language_info": {
   "codemirror_mode": {
    "name": "ipython",
    "version": 3
   },
   "file_extension": ".py",
   "mimetype": "text/x-python",
   "name": "python",
   "nbconvert_exporter": "python",
   "pygments_lexer": "ipython3",
   "version": "3.7.3"
  }
 },
 "nbformat": 4,
 "nbformat_minor": 2
}
