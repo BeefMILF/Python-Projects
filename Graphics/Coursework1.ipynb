{
 "cells": [
  {
   "cell_type": "code",
   "execution_count": 85,
   "metadata": {},
   "outputs": [],
   "source": [
    "import numpy as np\n",
    "import matplotlib.pyplot as plt"
   ]
  },
  {
   "cell_type": "code",
   "execution_count": 86,
   "metadata": {},
   "outputs": [
    {
     "name": "stdout",
     "output_type": "stream",
     "text": [
      "Rk1, Rk2, Rk3 = 100, 45, 60 Ом\n",
      "Rk12, Rk13, Rk23 = 30, 25, 15 Ом\n"
     ]
    }
   ],
   "source": [
    "E1, E7, J = 50, 100, 5\n",
    "R1, R2, R3, R4, R5, R6 = 10, 15, 20, 25, 30, 35\n",
    "\n",
    "Rk1 = R1 + R4 + R5 + R6\n",
    "Rk2 = R2 + R5 \n",
    "Rk3 = R2 + R3 + R4\n",
    "Rk12 = R5\n",
    "Rk13 = R4\n",
    "Rk23 = R2\n",
    "print(f'Rk1, Rk2, Rk3 = {Rk1}, {Rk2}, {Rk3} Ом\\nRk12, Rk13, Rk23 = {Rk12}, {Rk13}, {Rk23} Ом')"
   ]
  },
  {
   "cell_type": "markdown",
   "metadata": {},
   "source": [
    "### за 2 З. К. находим контурные токи\n",
    "_Ik1 * Rk1 - Ik2 * Rk12 - Ik3 * Rk13 = E1 + J * R1_\n",
    "\n",
    "_-Ik1 * Rk12 + Ik2 * Rk2 - Ik3 * Rk23 = -E7 + J * 0_\n",
    "\n",
    "_-Ik1 * Rk13 - Ik2 * Rk23 + Ik3 * Rk3 = J * 0_\n"
   ]
  },
  {
   "cell_type": "code",
   "execution_count": 87,
   "metadata": {},
   "outputs": [
    {
     "name": "stdout",
     "output_type": "stream",
     "text": [
      "A = \n",
      "[[100 -30 -25]\n",
      " [-30  45 -15]\n",
      " [-25 -15  60]]\n",
      "\n",
      "y = \n",
      "[[ 100]\n",
      " [-100]\n",
      " [   0]]\n",
      "\n",
      "x = \n",
      "[[ 0.20997375]\n",
      " [-2.23972003]\n",
      " [-0.47244094]]\n"
     ]
    }
   ],
   "source": [
    "A = np.array([\n",
    "    [Rk1, -Rk12, -Rk13],\n",
    "    [-Rk12, Rk2, -Rk23],\n",
    "    [-Rk13, -Rk23, Rk3],\n",
    "])\n",
    "y = np.array([\n",
    "    [E1 + J * R1],\n",
    "    [-E7 + J * 0],\n",
    "    [J * 0]\n",
    "])\n",
    "x = np.linalg.solve(A, y)\n",
    "Ik1, Ik2, Ik3 = x[0][0], x[1][0], x[2][0]\n",
    "print(f'A = \\n{A}', f'y = \\n{y}', f'x = \\n{x}', sep='\\n\\n')"
   ]
  },
  {
   "cell_type": "code",
   "execution_count": 88,
   "metadata": {},
   "outputs": [
    {
     "name": "stdout",
     "output_type": "stream",
     "text": [
      "I(1-6) = 4.79, 1.767, -0.472, 0.682, 2.45, 0.21\n"
     ]
    }
   ],
   "source": [
    "I1 = J - Ik1 \n",
    "I2 = Ik3 - Ik2\n",
    "I3 = Ik3\n",
    "I4 = Ik1 - Ik3\n",
    "I5 = Ik1 - Ik2\n",
    "I6 = Ik1   \n",
    "print(f'I(1-6) = {round(I1, 3)}, {round(I2, 3)}, {round(I3, 3)}, {round(I4, 3)}, {round(I5, 3)}, {round(I6, 3)}')"
   ]
  },
  {
   "cell_type": "code",
   "execution_count": 89,
   "metadata": {},
   "outputs": [
    {
     "data": {
      "text/plain": [
       "(473.97200349956256, 473.97200349956245)"
      ]
     },
     "execution_count": 89,
     "metadata": {},
     "output_type": "execute_result"
    }
   ],
   "source": [
    "P = sum([r * pow(i, 2) for r, i in zip([R1, R2, R3, R4, R5, R6], [I1, I2, I3, I4, I5, I6])])\n",
    "Pn = J * (I1 * R1 + E1) - I1 * E1 - E7 * Ik2\n",
    "Pn, P"
   ]
  },
  {
   "cell_type": "code",
   "execution_count": 90,
   "metadata": {},
   "outputs": [
    {
     "name": "stdout",
     "output_type": "stream",
     "text": [
      "G2n = 0.067, 0.14, 0.033, 0.04, 0\n",
      "G4n = 0.05, 0.04, 0, 0.19, 0.1\n",
      "G5n = 0, 0, 0.029, 0.1, 0.129\n",
      "Jk(2, 4, 5) = 3.333, -10.0, 12.857\n"
     ]
    }
   ],
   "source": [
    "f1 = 0\n",
    "f3 = f1 + E7\n",
    "\n",
    "G21 = 1 / R2\n",
    "G22 = 1 / R5 + 1 / R2 + 1 / R4\n",
    "G23 = 1 / R5\n",
    "G24 = 1 / R4\n",
    "G25 = 0\n",
    "\n",
    "G41 = 1 / R3\n",
    "G42 = G24\n",
    "G43 = 0\n",
    "G44 = 1 / R1 + 1 / R4 + 1 / R3\n",
    "G45 = 1 / R1\n",
    "\n",
    "G51 = 0\n",
    "G52 = G25\n",
    "G53 = 1 / R6\n",
    "G54 = G45\n",
    "G55 = 1 / R1 + 1 / R6\n",
    "\n",
    "Jk2 = 0 + (f1 * G21 + f3 * G23)\n",
    "Jk4 = -J - E1 / R1 + (f1 * G41 + f3 * G43)\n",
    "Jk5 = J + E1 / R1 + (f1 * G51 + f3 * G53)\n",
    "\n",
    "print(f'G2n = {round(G21, 3)}, {round(G22, 3)}, {round(G23, 3)}, {round(G24, 3)}, {round(G25, 3)}')\n",
    "print(f'G4n = {round(G41, 3)}, {round(G42, 3)}, {round(G43, 3)}, {round(G44, 3)}, {round(G45, 3)}')\n",
    "print(f'G5n = {round(G51, 3)}, {round(G52, 3)}, {round(G53, 3)}, {round(G54, 3)}, {round(G55, 3)}')\n",
    "print(f'Jk(2, 4, 5) = {round(Jk2, 3)}, {round(Jk4, 3)}, {round(Jk5, 3)}')"
   ]
  },
  {
   "cell_type": "code",
   "execution_count": 91,
   "metadata": {},
   "outputs": [
    {
     "name": "stdout",
     "output_type": "stream",
     "text": [
      "A = \n",
      "[[ 0.14       -0.04        0.        ]\n",
      " [-0.04        0.19       -0.1       ]\n",
      " [ 0.         -0.1         0.12857143]]\n",
      "\n",
      "y = \n",
      "[[  3.33333333]\n",
      " [-10.        ]\n",
      " [ 12.85714286]]\n",
      "\n",
      "x = \n",
      "[[ 26.50918635]\n",
      " [  9.4488189 ]\n",
      " [107.34908136]]\n"
     ]
    }
   ],
   "source": [
    "A = np.array([\n",
    "    [G22, -G24, -G25],\n",
    "    [-G42, G44, -G45],\n",
    "    [-G52, -G54, G55],\n",
    "])\n",
    "y = np.array([\n",
    "    [Jk2],\n",
    "    [Jk4],\n",
    "    [Jk5],\n",
    "])\n",
    "x = np.linalg.solve(A, y)\n",
    "f2, f4, f5 = x[0][0], x[1][0], x[2][0]\n",
    "print(f'A = \\n{A}', f'y = \\n{y}', f'x = \\n{x}', sep='\\n\\n')"
   ]
  },
  {
   "cell_type": "code",
   "execution_count": 92,
   "metadata": {},
   "outputs": [
    {
     "name": "stdout",
     "output_type": "stream",
     "text": [
      "I(1-6) = 4.79, 1.767, -0.472, 0.682, 2.45, 0.21\n"
     ]
    }
   ],
   "source": [
    "I1 = (f5 - f4 - E1) / R1\n",
    "I2 = (f2 - f1) / R2\n",
    "I3 = (f1 - f4) / R3 \n",
    "I4 = (f2 - f4) / R4\n",
    "I5 = (f3 - f2) / R5\n",
    "I6 = (f5 - f3) / R6\n",
    "print(f'I(1-6) = {round(I1, 3)}, {round(I2, 3)}, {round(I3, 3)}, {round(I4, 3)}, {round(I5, 3)}, {round(I6, 3)}')"
   ]
  },
  {
   "cell_type": "code",
   "execution_count": 93,
   "metadata": {},
   "outputs": [
    {
     "data": {
      "text/plain": [
       "(57.349, 30.84)"
      ]
     },
     "execution_count": 93,
     "metadata": {},
     "output_type": "execute_result"
    }
   ],
   "source": [
    "f6 = f5 - E1\n",
    "V = f6 - f2\n",
    "round(f6, 3), round(V, 3)"
   ]
  },
  {
   "cell_type": "code",
   "execution_count": 94,
   "metadata": {},
   "outputs": [
    {
     "name": "stdout",
     "output_type": "stream",
     "text": [
      "f(1-6) = 0, 26.509, 100, 9.449, 107.349, 57.349\n",
      "f(1-6) = -0.0, 26.509, 100, 9.449, 107.349, 57.349\n"
     ]
    }
   ],
   "source": [
    "print(f'f(1-6) = {round(f1, 3)}, {round(f2, 3)}, {round(f3, 3)}, {round(f4, 3)}, {round(f5, 3)}, {round(f6, 3)}')\n",
    "f1 = 0\n",
    "f3 = f1 + E7\n",
    "f5 = f3 + R6 * I6\n",
    "f6 = f5 - E1\n",
    "f4 = f6 - R1 * I1\n",
    "f1 = f4 + R3 * I3\n",
    "f2 = f1 + R2 * I2\n",
    "print(f'f(1-6) = {round(f1, 3)}, {round(f2, 3)}, {round(f3, 3)}, {round(f4, 3)}, {round(f5, 3)}, {round(f6, 3)}')"
   ]
  },
  {
   "cell_type": "code",
   "execution_count": 95,
   "metadata": {},
   "outputs": [
    {
     "data": {
      "image/png": "[encoded data removed]",
      "text/plain": [
       "<Figure size 720x360 with 1 Axes>"
      ]
     },
     "metadata": {
      "needs_background": "light"
     },
     "output_type": "display_data"
    }
   ],
   "source": [
    "y, x = [f3, f6, f5, f4, f1, f2], [0, R6, R6, R6 + R1, R6 + R1 + R3, R6 + R1 + R3 + R2]\n",
    "plt.figure(figsize=[10, 5])\n",
    "plt.plot(x, y, 'bo', color='purple')\n",
    "ax = plt.gca()\n",
    "c = 0\n",
    "annotate = [3, 6, 5, 4, 1, 2]\n",
    "for x0, y0 in zip(x, y):\n",
    "    ax.annotate(f'φ{annotate[c]}', (x0 + 1.5, y0 + 1.5))\n",
    "    c += 1\n",
    "plt.plot(x, y)\n",
    "plt.xlabel('R, Ом')\n",
    "plt.ylabel('φ, В')\n",
    "plt.grid(True)\n",
    "plt.show()"
   ]
  },
  {
   "cell_type": "code",
   "execution_count": 103,
   "metadata": {},
   "outputs": [
    {
     "name": "stdout",
     "output_type": "stream",
     "text": [
      "I(n)e1 = 0.866, 0.21, 0.551, 0.315, 0.105, 0.866\n"
     ]
    }
   ],
   "source": [
    "R254 = R2 * R5 / (R2 + R5) + R4\n",
    "Re1 = R254 * R3 / (R254 + R3) + R6 + R1\n",
    "I1e1 = E1 / Re1\n",
    "I6e1 = I1e1\n",
    "I3e1 = I6e1 * R254 / (R254 + R3)\n",
    "I4e1 = I6e1 * R3 / (R254 + R3)\n",
    "I5e1 = I4e1 * R2 / (R5 + R2)\n",
    "I2e1 = I4e1 * R5 / (R5 + R2)\n",
    "print(f'I(n)e1 = {round(I1e1, 3)}, {round(I2e1, 3)}, {round(I3e1, 3)}, {round(I4e1, 3)}, {round(I5e1, 3)}, {round(I6e1, 3)}')"
   ]
  },
  {
   "cell_type": "code",
   "execution_count": 104,
   "metadata": {},
   "outputs": [
    {
     "name": "stdout",
     "output_type": "stream",
     "text": [
      "Rk1 = 100, Rk12 = 30, Rk13 = 25, Rk2 = 45, R23 = 15, Rk3 = 60\n",
      "A = \n",
      "[[100 -30 -25]\n",
      " [-30  45 -15]\n",
      " [-25 -15  60]]\n",
      "\n",
      "y = \n",
      "[[   0]\n",
      " [-100]\n",
      " [   0]]\n",
      "\n",
      "x = \n",
      "[[-1.52230971]\n",
      " [-3.76202975]\n",
      " [-1.57480315]]\n"
     ]
    }
   ],
   "source": [
    "Rk1 = R1 + R4 + R5 + R6\n",
    "Rk12 = R5\n",
    "Rk13 = R4\n",
    "Rk2 = R5 + R2\n",
    "R23 = R2\n",
    "Rk3 = R2 +R3 + R4\n",
    "print(f'Rk1 = {round(Rk1, 3)}, Rk12 = {round(Rk12, 3)}, Rk13 = {round(Rk13, 3)}, Rk2 = {round(Rk2, 3)}, R23 = {round(R23, 3)}, Rk3 = {round(Rk3, 3)}')\n",
    "\n",
    "A = np.array([\n",
    "    [Rk1, -Rk12, -Rk13],\n",
    "    [-Rk12, Rk2, -Rk23],\n",
    "    [-Rk13, -Rk23, Rk3],\n",
    "])\n",
    "\n",
    "y = np.array([\n",
    "    [0],\n",
    "    [-E7],\n",
    "    [0]\n",
    "])\n",
    "x = np.linalg.solve(A, y)\n",
    "Ik1, Ik2, Ik3 = x[0][0], x[1][0], x[2][0]\n",
    "print(f'A = \\n{A}', f'y = \\n{y}', f'x = \\n{x}', sep='\\n\\n')"
   ]
  },
  {
   "cell_type": "code",
   "execution_count": 107,
   "metadata": {},
   "outputs": [
    {
     "name": "stdout",
     "output_type": "stream",
     "text": [
      "I1E2 = -0.21, I2E2 = 1.767, I3E2 = 0.472, I4E2 = 0.682, I5E2 = 2.45, I6E2 = -0.21\n"
     ]
    }
   ],
   "source": [
    "I1E2 = -Ik1\n",
    "I2E2 = Ik3 - Ik2\n",
    "I3E2 = -Ik3\n",
    "I4E2 = Ik1 - Ik3\n",
    "I5E2 = Ik1 - Ik2\n",
    "I6E2 = -Ik1\n",
    "print(f'I1E2 = {round(I1E2, 3)}, I2E2 = {round(I2E2, 3)}, I3E2 = {round(I3E2, 3)}, I4E2 = {round(I4E2, 3)}, I5E2 = {round(I5E2, 3)}, I6E2 = {round(I6E2, 3)}')"
   ]
  },
  {
   "cell_type": "code",
   "execution_count": 108,
   "metadata": {},
   "outputs": [
    {
     "name": "stdout",
     "output_type": "stream",
     "text": [
      "A = \n",
      "[[100 -30 -25]\n",
      " [-30  45 -15]\n",
      " [-25 -15  60]]\n",
      "\n",
      "y = \n",
      "[[50]\n",
      " [ 0]\n",
      " [ 0]]\n",
      "\n",
      "x = \n",
      "[[0.86614173]\n",
      " [0.76115486]\n",
      " [0.5511811 ]]\n"
     ]
    }
   ],
   "source": [
    "A = np.array([\n",
    "    [Rk1, -Rk12, -Rk13],\n",
    "    [-Rk12, Rk2, -Rk23],\n",
    "    [-Rk13, -Rk23, Rk3],\n",
    "])\n",
    "\n",
    "y = np.array([\n",
    "    [J * R1],\n",
    "    [0],\n",
    "    [0]\n",
    "])\n",
    "x = np.linalg.solve(A, y)\n",
    "Ik1, Ik2, Ik3 = x[0][0], x[1][0], x[2][0]\n",
    "print(f'A = \\n{A}', f'y = \\n{y}', f'x = \\n{x}', sep='\\n\\n')"
   ]
  },
  {
   "cell_type": "code",
   "execution_count": 110,
   "metadata": {},
   "outputs": [
    {
     "name": "stdout",
     "output_type": "stream",
     "text": [
      "I1J = 4.134, I2J = 0.21, I3J = 0.551, I4J = 0.315, I5J = 0.105, I6J = 0.866\n"
     ]
    }
   ],
   "source": [
    "I1J = J - Ik1\n",
    "I2J = Ik2 - Ik3\n",
    "I3J = Ik3\n",
    "I4J = Ik1 - Ik3\n",
    "I5J = Ik1 - Ik2\n",
    "I6J = Ik1\n",
    "print(f'I1J = {round(I1J, 3)}, I2J = {round(I2J, 3)}, I3J = {round(I3J, 3)}, I4J = {round(I4J, 3)}, I5J = {round(I5J, 3)}, I6J = {round(I6J, 3)}')"
   ]
  },
  {
   "cell_type": "code",
   "execution_count": 113,
   "metadata": {},
   "outputs": [
    {
     "name": "stdout",
     "output_type": "stream",
     "text": [
      "I(1-6) = 3.058, 1.347, 0.63, 1.312, 2.66, 1.942\n"
     ]
    }
   ],
   "source": [
    "I1 = -I1e1 + I1E2 + I1J\n",
    "I2 = -I2e1 + I2E2 - I2J\n",
    "I3 = I3e1 - I3E2 + I3J\n",
    "I4 = I4e1 + I4E2 + I4J\n",
    "I5 = I5e1 + I5E2 + I5J\n",
    "I6 = I6e1 - I6E2 + I6J\n",
    "print(f'I(1-6) = {round(I1, 3)}, {round(I2, 3)}, {round(I3, 3)}, {round(I4, 3)}, {round(I5, 3)}, {round(I6, 3)}')"
   ]
  },
  {
   "cell_type": "code",
   "execution_count": 116,
   "metadata": {},
   "outputs": [
    {
     "name": "stdout",
     "output_type": "stream",
     "text": [
      "A = \n",
      "[[ 45 -15]\n",
      " [-15  45]]\n",
      "\n",
      "y = \n",
      "[[ 50]\n",
      " [125]]\n",
      "\n",
      "x = \n",
      "[[2.29166667]\n",
      " [3.54166667]]\n"
     ]
    }
   ],
   "source": [
    "Rk1 = R5 + R2\n",
    "Rk12 = R2\n",
    "Rk2 = R4 + R3\n",
    "# Rk1 - Rk12 = -E2 + J * R5\n",
    "# -Rk12 + Rk2 = 0 + J * R4\n",
    "A = np.array([\n",
    "    [Rk1, -Rk12],\n",
    "    [-Rk12, Rk2]\n",
    "])\n",
    "y = np.array([\n",
    "    [-E7 + J * R5],\n",
    "    [0 + J * R4],\n",
    "])\n",
    "\n",
    "x = np.linalg.solve(A, y)\n",
    "Ik1, Ik2 = x[0][0], x[1][0]\n",
    "print(f'A = \\n{A}', f'y = \\n{y}', f'x = \\n{x}', sep='\\n\\n')"
   ]
  },
  {
   "cell_type": "code",
   "execution_count": 119,
   "metadata": {},
   "outputs": [
    {
     "data": {
      "text/plain": [
       "292.708"
      ]
     },
     "execution_count": 119,
     "metadata": {},
     "output_type": "execute_result"
    }
   ],
   "source": [
    "UX1 = (J - Ik1) * R5 + (J - Ik2) * R4 + J * R6\n",
    "round(UX1, 3)"
   ]
  },
  {
   "cell_type": "code",
   "execution_count": 122,
   "metadata": {},
   "outputs": [
    {
     "data": {
      "text/plain": [
       "5.937"
      ]
     },
     "execution_count": 122,
     "metadata": {},
     "output_type": "execute_result"
    }
   ],
   "source": [
    "R254 = (R2 * R5) / (R2 + R5) + R4\n",
    "R2543 = (R254 * R3) / (R254 + R3)\n",
    "Re = R2543 + R6\n",
    "round(R254, 3), round(R2543, 3), round(Re, 3)\n",
    "I = (E1 + UX1) / (Re + R1)\n",
    "round(I, 3)"
   ]
  },
  {
   "cell_type": "code",
   "execution_count": null,
   "metadata": {},
   "outputs": [],
   "source": []
  }
 ],
 "metadata": {
  "kernelspec": {
   "display_name": "Python 3",
   "language": "python",
   "name": "python3"
  },
  "language_info": {
   "codemirror_mode": {
    "name": "ipython",
    "version": 3
   },
   "file_extension": ".py",
   "mimetype": "text/x-python",
   "name": "python",
   "nbconvert_exporter": "python",
   "pygments_lexer": "ipython3",
   "version": "3.7.3"
  }
 },
 "nbformat": 4,
 "nbformat_minor": 2
}
