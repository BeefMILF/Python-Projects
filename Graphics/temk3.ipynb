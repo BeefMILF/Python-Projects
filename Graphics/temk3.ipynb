{
 "cells": [
  {
   "cell_type": "markdown",
   "metadata": {},
   "source": [
    "__Rвн__"
   ]
  },
  {
   "cell_type": "code",
   "execution_count": 40,
   "metadata": {},
   "outputs": [
    {
     "name": "stdout",
     "output_type": "stream",
     "text": [
      "Rn1 = 7.29, Rn2 = 14.29\n"
     ]
    }
   ],
   "source": [
    "E1, E2 = 21.2, 10.1\n",
    "Un1, Un2 = 20.5, 10.0\n",
    "In1, In2 = 96, 7\n",
    "Rn1, Rn2 = round((E1 - Un1) / (In1 / 1000), 2), round((E2 - Un2) / (In2 / 1000), 2)\n",
    "print(f'Rn1 = {Rn1}, Rn2 = {Rn2}')"
   ]
  },
  {
   "cell_type": "code",
   "execution_count": 41,
   "metadata": {},
   "outputs": [
    {
     "name": "stdout",
     "output_type": "stream",
     "text": [
      "50 75 100\n"
     ]
    }
   ],
   "source": [
    "R1, R2, R3 = 50, 75, 100\n",
    "print(R1, R2, R3)"
   ]
  },
  {
   "cell_type": "markdown",
   "metadata": {},
   "source": [
    "__Знайдемо I віток кола(враховуючи їх напрямок), при дії джерела E1__"
   ]
  },
  {
   "cell_type": "code",
   "execution_count": 42,
   "metadata": {},
   "outputs": [
    {
     "name": "stdout",
     "output_type": "stream",
     "text": [
      "R23n2 = 47.171, R1n1 = 57.29, Req = 104.461\n"
     ]
    }
   ],
   "source": [
    "R23n2 = (Rn2 + R2) * R3 / (Rn2 + R2 + R3) \n",
    "R1n1 = Rn1 + R1\n",
    "#\n",
    "# Req = (R1n1 * R23n2) / (R1n1 + R23n2)\n",
    "Req = R1n1 + R23n2\n",
    "#\n",
    "print(f'R23n2 = {round(R23n2, 3)}, R1n1 = {round(R1n1, 3)}, Req = {round(Req, 3)}')"
   ]
  },
  {
   "cell_type": "code",
   "execution_count": 43,
   "metadata": {},
   "outputs": [
    {
     "name": "stdout",
     "output_type": "stream",
     "text": [
      "_I1 = 202.9, _I2 = 107.2, _I3 = 95.7\n"
     ]
    }
   ],
   "source": [
    "_I1 = E1 / Req\n",
    "_I3 = _I1 * R23n2 / R3\n",
    "_I2 = _I1 * R23n2 / (Rn2 + R2)\n",
    "print(f'_I1 = {round(_I1 * 1000, 1)}, _I2 = {round(_I2 * 1000, 1)}, _I3 = {round(_I3 * 1000, 1)}')"
   ]
  },
  {
   "cell_type": "code",
   "execution_count": 49,
   "metadata": {},
   "outputs": [
    {
     "name": "stdout",
     "output_type": "stream",
     "text": [
      "_U1 = 10.1, _U2 = 8.0, _U3 = 9.6\n"
     ]
    }
   ],
   "source": [
    "_U1, _U2, _U3 = _I1 * R1, _I2 * R2, _I3 * R3  \n",
    "print(f'_U1 = {round(_U1, 1)}, _U2 = {round(_U2, 1)}, _U3 = {round(_U3, 1)}')"
   ]
  },
  {
   "cell_type": "markdown",
   "metadata": {},
   "source": [
    "__Знайдемо I віток кола(враховуючи їх напрямок), при дії джерела E2__"
   ]
  },
  {
   "cell_type": "code",
   "execution_count": 44,
   "metadata": {},
   "outputs": [
    {
     "name": "stdout",
     "output_type": "stream",
     "text": [
      "R13n1 = 36.423, R2n2 = 89.29, Req = 125.713\n"
     ]
    }
   ],
   "source": [
    "R13n1 = (Rn1 + R1) * R3 / (Rn1 + R1 + R3)\n",
    "R2n2 = Rn2 + R2\n",
    "#\n",
    "# Req = R13n1 * R2n2 / (R13n1 + R2n2)\n",
    "Req = R12n1 + R2n2\n",
    "#\n",
    "print(f'R13n1 = {round(R13n1, 3)}, R2n2 = {round(R2n2, 3)}, Req = {round(Req, 3)}')"
   ]
  },
  {
   "cell_type": "code",
   "execution_count": 45,
   "metadata": {},
   "outputs": [
    {
     "name": "stdout",
     "output_type": "stream",
     "text": [
      "__I1 = 51.1, __I2 = 80.3, __I3 = 29.3\n"
     ]
    }
   ],
   "source": [
    "__I2 = E2 / Req\n",
    "__I1 = __I2 * R13n1 / (Rn1 + R1)\n",
    "__I3 = __I2 * R13n1 / R3\n",
    "print(f'__I1 = {round(__I1 * 1000, 1)}, __I2 = {round(__I2 * 1000, 1)}, __I3 = {round(__I3 * 1000, 1)}')"
   ]
  },
  {
   "cell_type": "code",
   "execution_count": 50,
   "metadata": {},
   "outputs": [
    {
     "name": "stdout",
     "output_type": "stream",
     "text": [
      "__U1 = 2.6, __U2 = 6.0, __U3 = 2.9\n"
     ]
    }
   ],
   "source": [
    "__U1, __U2, __U3 = __I1 * R1, __I2 * R2, __I3 * R3  \n",
    "print(f'__U1 = {round(__U1, 1)}, __U2 = {round(__U2, 1)}, __U3 = {round(__U3, 1)}')"
   ]
  },
  {
   "cell_type": "markdown",
   "metadata": {},
   "source": [
    "__Струми:__"
   ]
  },
  {
   "cell_type": "code",
   "execution_count": 51,
   "metadata": {},
   "outputs": [
    {
     "name": "stdout",
     "output_type": "stream",
     "text": [
      "I1 = 151.9, I2 = -26.9, I3 = 125.0\n"
     ]
    }
   ],
   "source": [
    "I1, I2, I3 = _I1 - __I1, __I2 - _I2, _I3 + __I3 \n",
    "print(f'I1 = {round(I1 * 1000, 1)}, I2 = {round(I2 * 1000, 1)}, I3 = {round(I3 * 1000, 1)}')"
   ]
  },
  {
   "cell_type": "markdown",
   "metadata": {},
   "source": [
    "__Напруги:__"
   ]
  },
  {
   "cell_type": "code",
   "execution_count": 53,
   "metadata": {},
   "outputs": [
    {
     "name": "stdout",
     "output_type": "stream",
     "text": [
      "U1 = 7.6, U2 = -2.0, U3 = 12.5\n"
     ]
    }
   ],
   "source": [
    "U1, U2, U3 = _U1 - __U1, __U2 - _U2, _U3 + __U3\n",
    "print(f'U1 = {round(U1, 1)}, U2 = {round(U2, 1)}, U3 = {round(U3, 1)}')"
   ]
  },
  {
   "cell_type": "markdown",
   "metadata": {},
   "source": [
    "__Знайдемо вхідні та взаємні провідності віток та коефіцієнти передачі напруги__"
   ]
  },
  {
   "cell_type": "code",
   "execution_count": 56,
   "metadata": {},
   "outputs": [
    {
     "name": "stdout",
     "output_type": "stream",
     "text": [
      "G1 = 9.57, G2 = 5.06, G3 = 4.52 * 10 ^ (-3)\n"
     ]
    }
   ],
   "source": [
    "G1, G2, G3 = _I1 / E1, _I2 / E1, _I3 / E1\n",
    "print(f'G1 = {round(G1 * 1000, 2)}, G2 = {round(G2 * 1000, 2)}, G3 = {round(G3 * 1000, 2)} * 10 ^ (-3)')"
   ]
  },
  {
   "cell_type": "code",
   "execution_count": 57,
   "metadata": {},
   "outputs": [
    {
     "name": "stdout",
     "output_type": "stream",
     "text": [
      "G1 = 5.06, G2 = 7.95, G3 = 2.9 * 10 ^ (-3)\n"
     ]
    }
   ],
   "source": [
    "G1, G2, G3 = __I1 / E2, __I2 / E2, __I3 / E2\n",
    "print(f'G1 = {round(G1 * 1000, 2)}, G2 = {round(G2 * 1000, 2)}, G3 = {round(G3 * 1000, 2)} * 10 ^ (-3)')"
   ]
  },
  {
   "cell_type": "code",
   "execution_count": 60,
   "metadata": {},
   "outputs": [
    {
     "name": "stdout",
     "output_type": "stream",
     "text": [
      "K1 = 0.48, K2 = 0.38, K3 = 0.45\n"
     ]
    }
   ],
   "source": [
    "K1, K2, K3 = _U1 / E1, _U2 / E1, _U3 / E1\n",
    "print(f'K1 = {round(K1, 2)}, K2 = {round(K2, 2)}, K3 = {round(K3, 2)}')"
   ]
  },
  {
   "cell_type": "code",
   "execution_count": 61,
   "metadata": {},
   "outputs": [
    {
     "name": "stdout",
     "output_type": "stream",
     "text": [
      "K1 = 0.25, K2 = 0.6, K3 = 0.29\n"
     ]
    }
   ],
   "source": [
    "K1, K2, K3 = __U1 / E2, __U2 / E2, __U3 / E2\n",
    "print(f'K1 = {round(K1, 2)}, K2 = {round(K2, 2)}, K3 = {round(K3, 2)}')"
   ]
  },
  {
   "cell_type": "code",
   "execution_count": null,
   "metadata": {},
   "outputs": [],
   "source": []
  }
 ],
 "metadata": {
  "kernelspec": {
   "display_name": "Python 3",
   "language": "python",
   "name": "python3"
  },
  "language_info": {
   "codemirror_mode": {
    "name": "ipython",
    "version": 3
   },
   "file_extension": ".py",
   "mimetype": "text/x-python",
   "name": "python",
   "nbconvert_exporter": "python",
   "pygments_lexer": "ipython3",
   "version": "3.7.3"
  }
 },
 "nbformat": 4,
 "nbformat_minor": 2
}
